{
  "nbformat": 4,
  "nbformat_minor": 0,
  "metadata": {
    "colab": {
      "provenance": [],
      "authorship_tag": "ABX9TyPCWjcioJ7dbpAK1iQ7OBCM",
      "include_colab_link": true
    },
    "kernelspec": {
      "name": "python3",
      "display_name": "Python 3"
    },
    "language_info": {
      "name": "python"
    }
  },
  "cells": [
    {
      "cell_type": "markdown",
      "metadata": {
        "id": "view-in-github",
        "colab_type": "text"
      },
      "source": [
        "<a href=\"https://colab.research.google.com/github/raghulvishal/Data-visualization/blob/main/21AIB12.ipynb\" target=\"_parent\"><img src=\"https://colab.research.google.com/assets/colab-badge.svg\" alt=\"Open In Colab\"/></a>"
      ]
    },
    {
      "cell_type": "code",
      "execution_count": 1,
      "metadata": {
        "id": "iXYRAFnDQpFP"
      },
      "outputs": [],
      "source": [
        "import numpy as np\n",
        "import pandas as pd\n",
        "import matplotlib.pyplot as plt\n",
        "import seaborn as sb"
      ]
    },
    {
      "cell_type": "code",
      "source": [
        "df=pd.read_csv(\"winequality-red.csv\")\n",
        "df1=pd.read_csv(\"winequality-white.csv\")"
      ],
      "metadata": {
        "id": "urV-77BNQ9Q2"
      },
      "execution_count": 3,
      "outputs": []
    },
    {
      "cell_type": "code",
      "source": [
        "df.head()\n"
      ],
      "metadata": {
        "colab": {
          "base_uri": "https://localhost:8080/",
          "height": 215
        },
        "id": "XjkQUn_3TBnV",
        "outputId": "39cc9321-9610-4378-aec9-7b1914cb1015"
      },
      "execution_count": 5,
      "outputs": [
        {
          "output_type": "execute_result",
          "data": {
            "text/plain": [
              "   fixed  Unnamed: 1  Unnamed: 2  Unnamed: 3  Unnamed: 4  Unnamed: 5  \\\n",
              "0    7.4        0.70        0.00         1.9       0.076        11.0   \n",
              "1    7.8        0.88        0.00         2.6       0.098        25.0   \n",
              "2    7.8        0.76        0.04         2.3       0.092        15.0   \n",
              "3   11.2        0.28        0.56         1.9       0.075        17.0   \n",
              "4    7.4        0.70        0.00         1.9       0.076        11.0   \n",
              "\n",
              "   Unnamed: 6  Unnamed: 7  Unnamed: 8  Unnamed: 9  Unnamed: 10  Unnamed: 11  \n",
              "0        34.0      0.9978        3.51        0.56          9.4            5  \n",
              "1        67.0      0.9968        3.20        0.68          9.8            5  \n",
              "2        54.0      0.9970        3.26        0.65          9.8            5  \n",
              "3        60.0      0.9980        3.16        0.58          9.8            6  \n",
              "4        34.0      0.9978        3.51        0.56          9.4            5  "
            ],
            "text/html": [
              "\n",
              "  <div id=\"df-d0a7fa89-a536-49a4-881a-9d2eee8af157\">\n",
              "    <div class=\"colab-df-container\">\n",
              "      <div>\n",
              "<style scoped>\n",
              "    .dataframe tbody tr th:only-of-type {\n",
              "        vertical-align: middle;\n",
              "    }\n",
              "\n",
              "    .dataframe tbody tr th {\n",
              "        vertical-align: top;\n",
              "    }\n",
              "\n",
              "    .dataframe thead th {\n",
              "        text-align: right;\n",
              "    }\n",
              "</style>\n",
              "<table border=\"1\" class=\"dataframe\">\n",
              "  <thead>\n",
              "    <tr style=\"text-align: right;\">\n",
              "      <th></th>\n",
              "      <th>fixed</th>\n",
              "      <th>Unnamed: 1</th>\n",
              "      <th>Unnamed: 2</th>\n",
              "      <th>Unnamed: 3</th>\n",
              "      <th>Unnamed: 4</th>\n",
              "      <th>Unnamed: 5</th>\n",
              "      <th>Unnamed: 6</th>\n",
              "      <th>Unnamed: 7</th>\n",
              "      <th>Unnamed: 8</th>\n",
              "      <th>Unnamed: 9</th>\n",
              "      <th>Unnamed: 10</th>\n",
              "      <th>Unnamed: 11</th>\n",
              "    </tr>\n",
              "  </thead>\n",
              "  <tbody>\n",
              "    <tr>\n",
              "      <th>0</th>\n",
              "      <td>7.4</td>\n",
              "      <td>0.70</td>\n",
              "      <td>0.00</td>\n",
              "      <td>1.9</td>\n",
              "      <td>0.076</td>\n",
              "      <td>11.0</td>\n",
              "      <td>34.0</td>\n",
              "      <td>0.9978</td>\n",
              "      <td>3.51</td>\n",
              "      <td>0.56</td>\n",
              "      <td>9.4</td>\n",
              "      <td>5</td>\n",
              "    </tr>\n",
              "    <tr>\n",
              "      <th>1</th>\n",
              "      <td>7.8</td>\n",
              "      <td>0.88</td>\n",
              "      <td>0.00</td>\n",
              "      <td>2.6</td>\n",
              "      <td>0.098</td>\n",
              "      <td>25.0</td>\n",
              "      <td>67.0</td>\n",
              "      <td>0.9968</td>\n",
              "      <td>3.20</td>\n",
              "      <td>0.68</td>\n",
              "      <td>9.8</td>\n",
              "      <td>5</td>\n",
              "    </tr>\n",
              "    <tr>\n",
              "      <th>2</th>\n",
              "      <td>7.8</td>\n",
              "      <td>0.76</td>\n",
              "      <td>0.04</td>\n",
              "      <td>2.3</td>\n",
              "      <td>0.092</td>\n",
              "      <td>15.0</td>\n",
              "      <td>54.0</td>\n",
              "      <td>0.9970</td>\n",
              "      <td>3.26</td>\n",
              "      <td>0.65</td>\n",
              "      <td>9.8</td>\n",
              "      <td>5</td>\n",
              "    </tr>\n",
              "    <tr>\n",
              "      <th>3</th>\n",
              "      <td>11.2</td>\n",
              "      <td>0.28</td>\n",
              "      <td>0.56</td>\n",
              "      <td>1.9</td>\n",
              "      <td>0.075</td>\n",
              "      <td>17.0</td>\n",
              "      <td>60.0</td>\n",
              "      <td>0.9980</td>\n",
              "      <td>3.16</td>\n",
              "      <td>0.58</td>\n",
              "      <td>9.8</td>\n",
              "      <td>6</td>\n",
              "    </tr>\n",
              "    <tr>\n",
              "      <th>4</th>\n",
              "      <td>7.4</td>\n",
              "      <td>0.70</td>\n",
              "      <td>0.00</td>\n",
              "      <td>1.9</td>\n",
              "      <td>0.076</td>\n",
              "      <td>11.0</td>\n",
              "      <td>34.0</td>\n",
              "      <td>0.9978</td>\n",
              "      <td>3.51</td>\n",
              "      <td>0.56</td>\n",
              "      <td>9.4</td>\n",
              "      <td>5</td>\n",
              "    </tr>\n",
              "  </tbody>\n",
              "</table>\n",
              "</div>\n",
              "      <button class=\"colab-df-convert\" onclick=\"convertToInteractive('df-d0a7fa89-a536-49a4-881a-9d2eee8af157')\"\n",
              "              title=\"Convert this dataframe to an interactive table.\"\n",
              "              style=\"display:none;\">\n",
              "        \n",
              "  <svg xmlns=\"http://www.w3.org/2000/svg\" height=\"24px\"viewBox=\"0 0 24 24\"\n",
              "       width=\"24px\">\n",
              "    <path d=\"M0 0h24v24H0V0z\" fill=\"none\"/>\n",
              "    <path d=\"M18.56 5.44l.94 2.06.94-2.06 2.06-.94-2.06-.94-.94-2.06-.94 2.06-2.06.94zm-11 1L8.5 8.5l.94-2.06 2.06-.94-2.06-.94L8.5 2.5l-.94 2.06-2.06.94zm10 10l.94 2.06.94-2.06 2.06-.94-2.06-.94-.94-2.06-.94 2.06-2.06.94z\"/><path d=\"M17.41 7.96l-1.37-1.37c-.4-.4-.92-.59-1.43-.59-.52 0-1.04.2-1.43.59L10.3 9.45l-7.72 7.72c-.78.78-.78 2.05 0 2.83L4 21.41c.39.39.9.59 1.41.59.51 0 1.02-.2 1.41-.59l7.78-7.78 2.81-2.81c.8-.78.8-2.07 0-2.86zM5.41 20L4 18.59l7.72-7.72 1.47 1.35L5.41 20z\"/>\n",
              "  </svg>\n",
              "      </button>\n",
              "      \n",
              "  <style>\n",
              "    .colab-df-container {\n",
              "      display:flex;\n",
              "      flex-wrap:wrap;\n",
              "      gap: 12px;\n",
              "    }\n",
              "\n",
              "    .colab-df-convert {\n",
              "      background-color: #E8F0FE;\n",
              "      border: none;\n",
              "      border-radius: 50%;\n",
              "      cursor: pointer;\n",
              "      display: none;\n",
              "      fill: #1967D2;\n",
              "      height: 32px;\n",
              "      padding: 0 0 0 0;\n",
              "      width: 32px;\n",
              "    }\n",
              "\n",
              "    .colab-df-convert:hover {\n",
              "      background-color: #E2EBFA;\n",
              "      box-shadow: 0px 1px 2px rgba(60, 64, 67, 0.3), 0px 1px 3px 1px rgba(60, 64, 67, 0.15);\n",
              "      fill: #174EA6;\n",
              "    }\n",
              "\n",
              "    [theme=dark] .colab-df-convert {\n",
              "      background-color: #3B4455;\n",
              "      fill: #D2E3FC;\n",
              "    }\n",
              "\n",
              "    [theme=dark] .colab-df-convert:hover {\n",
              "      background-color: #434B5C;\n",
              "      box-shadow: 0px 1px 3px 1px rgba(0, 0, 0, 0.15);\n",
              "      filter: drop-shadow(0px 1px 2px rgba(0, 0, 0, 0.3));\n",
              "      fill: #FFFFFF;\n",
              "    }\n",
              "  </style>\n",
              "\n",
              "      <script>\n",
              "        const buttonEl =\n",
              "          document.querySelector('#df-d0a7fa89-a536-49a4-881a-9d2eee8af157 button.colab-df-convert');\n",
              "        buttonEl.style.display =\n",
              "          google.colab.kernel.accessAllowed ? 'block' : 'none';\n",
              "\n",
              "        async function convertToInteractive(key) {\n",
              "          const element = document.querySelector('#df-d0a7fa89-a536-49a4-881a-9d2eee8af157');\n",
              "          const dataTable =\n",
              "            await google.colab.kernel.invokeFunction('convertToInteractive',\n",
              "                                                     [key], {});\n",
              "          if (!dataTable) return;\n",
              "\n",
              "          const docLinkHtml = 'Like what you see? Visit the ' +\n",
              "            '<a target=\"_blank\" href=https://colab.research.google.com/notebooks/data_table.ipynb>data table notebook</a>'\n",
              "            + ' to learn more about interactive tables.';\n",
              "          element.innerHTML = '';\n",
              "          dataTable['output_type'] = 'display_data';\n",
              "          await google.colab.output.renderOutput(dataTable, element);\n",
              "          const docLink = document.createElement('div');\n",
              "          docLink.innerHTML = docLinkHtml;\n",
              "          element.appendChild(docLink);\n",
              "        }\n",
              "      </script>\n",
              "    </div>\n",
              "  </div>\n",
              "  "
            ]
          },
          "metadata": {},
          "execution_count": 5
        }
      ]
    },
    {
      "cell_type": "code",
      "source": [
        "df1.head()"
      ],
      "metadata": {
        "colab": {
          "base_uri": "https://localhost:8080/",
          "height": 215
        },
        "id": "N5YUWBpOTNEi",
        "outputId": "47c58865-8af4-4694-8de8-4c8940dd0ad7"
      },
      "execution_count": 6,
      "outputs": [
        {
          "output_type": "execute_result",
          "data": {
            "text/plain": [
              "   fixed acidity  volatile acidity  citric acid  residual sugar  chlorides  \\\n",
              "0            7.0              0.27         0.36            20.7      0.045   \n",
              "1            6.3              0.30         0.34             1.6      0.049   \n",
              "2            8.1              0.28         0.40             6.9      0.050   \n",
              "3            7.2              0.23         0.32             8.5      0.058   \n",
              "4            7.2              0.23         0.32             8.5      0.058   \n",
              "\n",
              "   free sulfur dioxide  total sulfur dioxide  density    pH  sulphates  \\\n",
              "0                 45.0                 170.0   1.0010  3.00       0.45   \n",
              "1                 14.0                 132.0   0.9940  3.30       0.49   \n",
              "2                 30.0                  97.0   0.9951  3.26       0.44   \n",
              "3                 47.0                 186.0   0.9956  3.19       0.40   \n",
              "4                 47.0                 186.0   0.9956  3.19       0.40   \n",
              "\n",
              "   alcohol  quality  \n",
              "0      8.8        6  \n",
              "1      9.5        6  \n",
              "2     10.1        6  \n",
              "3      9.9        6  \n",
              "4      9.9        6  "
            ],
            "text/html": [
              "\n",
              "  <div id=\"df-b00fa7a3-ede0-4b70-a8aa-b4b7c5906ef7\">\n",
              "    <div class=\"colab-df-container\">\n",
              "      <div>\n",
              "<style scoped>\n",
              "    .dataframe tbody tr th:only-of-type {\n",
              "        vertical-align: middle;\n",
              "    }\n",
              "\n",
              "    .dataframe tbody tr th {\n",
              "        vertical-align: top;\n",
              "    }\n",
              "\n",
              "    .dataframe thead th {\n",
              "        text-align: right;\n",
              "    }\n",
              "</style>\n",
              "<table border=\"1\" class=\"dataframe\">\n",
              "  <thead>\n",
              "    <tr style=\"text-align: right;\">\n",
              "      <th></th>\n",
              "      <th>fixed acidity</th>\n",
              "      <th>volatile acidity</th>\n",
              "      <th>citric acid</th>\n",
              "      <th>residual sugar</th>\n",
              "      <th>chlorides</th>\n",
              "      <th>free sulfur dioxide</th>\n",
              "      <th>total sulfur dioxide</th>\n",
              "      <th>density</th>\n",
              "      <th>pH</th>\n",
              "      <th>sulphates</th>\n",
              "      <th>alcohol</th>\n",
              "      <th>quality</th>\n",
              "    </tr>\n",
              "  </thead>\n",
              "  <tbody>\n",
              "    <tr>\n",
              "      <th>0</th>\n",
              "      <td>7.0</td>\n",
              "      <td>0.27</td>\n",
              "      <td>0.36</td>\n",
              "      <td>20.7</td>\n",
              "      <td>0.045</td>\n",
              "      <td>45.0</td>\n",
              "      <td>170.0</td>\n",
              "      <td>1.0010</td>\n",
              "      <td>3.00</td>\n",
              "      <td>0.45</td>\n",
              "      <td>8.8</td>\n",
              "      <td>6</td>\n",
              "    </tr>\n",
              "    <tr>\n",
              "      <th>1</th>\n",
              "      <td>6.3</td>\n",
              "      <td>0.30</td>\n",
              "      <td>0.34</td>\n",
              "      <td>1.6</td>\n",
              "      <td>0.049</td>\n",
              "      <td>14.0</td>\n",
              "      <td>132.0</td>\n",
              "      <td>0.9940</td>\n",
              "      <td>3.30</td>\n",
              "      <td>0.49</td>\n",
              "      <td>9.5</td>\n",
              "      <td>6</td>\n",
              "    </tr>\n",
              "    <tr>\n",
              "      <th>2</th>\n",
              "      <td>8.1</td>\n",
              "      <td>0.28</td>\n",
              "      <td>0.40</td>\n",
              "      <td>6.9</td>\n",
              "      <td>0.050</td>\n",
              "      <td>30.0</td>\n",
              "      <td>97.0</td>\n",
              "      <td>0.9951</td>\n",
              "      <td>3.26</td>\n",
              "      <td>0.44</td>\n",
              "      <td>10.1</td>\n",
              "      <td>6</td>\n",
              "    </tr>\n",
              "    <tr>\n",
              "      <th>3</th>\n",
              "      <td>7.2</td>\n",
              "      <td>0.23</td>\n",
              "      <td>0.32</td>\n",
              "      <td>8.5</td>\n",
              "      <td>0.058</td>\n",
              "      <td>47.0</td>\n",
              "      <td>186.0</td>\n",
              "      <td>0.9956</td>\n",
              "      <td>3.19</td>\n",
              "      <td>0.40</td>\n",
              "      <td>9.9</td>\n",
              "      <td>6</td>\n",
              "    </tr>\n",
              "    <tr>\n",
              "      <th>4</th>\n",
              "      <td>7.2</td>\n",
              "      <td>0.23</td>\n",
              "      <td>0.32</td>\n",
              "      <td>8.5</td>\n",
              "      <td>0.058</td>\n",
              "      <td>47.0</td>\n",
              "      <td>186.0</td>\n",
              "      <td>0.9956</td>\n",
              "      <td>3.19</td>\n",
              "      <td>0.40</td>\n",
              "      <td>9.9</td>\n",
              "      <td>6</td>\n",
              "    </tr>\n",
              "  </tbody>\n",
              "</table>\n",
              "</div>\n",
              "      <button class=\"colab-df-convert\" onclick=\"convertToInteractive('df-b00fa7a3-ede0-4b70-a8aa-b4b7c5906ef7')\"\n",
              "              title=\"Convert this dataframe to an interactive table.\"\n",
              "              style=\"display:none;\">\n",
              "        \n",
              "  <svg xmlns=\"http://www.w3.org/2000/svg\" height=\"24px\"viewBox=\"0 0 24 24\"\n",
              "       width=\"24px\">\n",
              "    <path d=\"M0 0h24v24H0V0z\" fill=\"none\"/>\n",
              "    <path d=\"M18.56 5.44l.94 2.06.94-2.06 2.06-.94-2.06-.94-.94-2.06-.94 2.06-2.06.94zm-11 1L8.5 8.5l.94-2.06 2.06-.94-2.06-.94L8.5 2.5l-.94 2.06-2.06.94zm10 10l.94 2.06.94-2.06 2.06-.94-2.06-.94-.94-2.06-.94 2.06-2.06.94z\"/><path d=\"M17.41 7.96l-1.37-1.37c-.4-.4-.92-.59-1.43-.59-.52 0-1.04.2-1.43.59L10.3 9.45l-7.72 7.72c-.78.78-.78 2.05 0 2.83L4 21.41c.39.39.9.59 1.41.59.51 0 1.02-.2 1.41-.59l7.78-7.78 2.81-2.81c.8-.78.8-2.07 0-2.86zM5.41 20L4 18.59l7.72-7.72 1.47 1.35L5.41 20z\"/>\n",
              "  </svg>\n",
              "      </button>\n",
              "      \n",
              "  <style>\n",
              "    .colab-df-container {\n",
              "      display:flex;\n",
              "      flex-wrap:wrap;\n",
              "      gap: 12px;\n",
              "    }\n",
              "\n",
              "    .colab-df-convert {\n",
              "      background-color: #E8F0FE;\n",
              "      border: none;\n",
              "      border-radius: 50%;\n",
              "      cursor: pointer;\n",
              "      display: none;\n",
              "      fill: #1967D2;\n",
              "      height: 32px;\n",
              "      padding: 0 0 0 0;\n",
              "      width: 32px;\n",
              "    }\n",
              "\n",
              "    .colab-df-convert:hover {\n",
              "      background-color: #E2EBFA;\n",
              "      box-shadow: 0px 1px 2px rgba(60, 64, 67, 0.3), 0px 1px 3px 1px rgba(60, 64, 67, 0.15);\n",
              "      fill: #174EA6;\n",
              "    }\n",
              "\n",
              "    [theme=dark] .colab-df-convert {\n",
              "      background-color: #3B4455;\n",
              "      fill: #D2E3FC;\n",
              "    }\n",
              "\n",
              "    [theme=dark] .colab-df-convert:hover {\n",
              "      background-color: #434B5C;\n",
              "      box-shadow: 0px 1px 3px 1px rgba(0, 0, 0, 0.15);\n",
              "      filter: drop-shadow(0px 1px 2px rgba(0, 0, 0, 0.3));\n",
              "      fill: #FFFFFF;\n",
              "    }\n",
              "  </style>\n",
              "\n",
              "      <script>\n",
              "        const buttonEl =\n",
              "          document.querySelector('#df-b00fa7a3-ede0-4b70-a8aa-b4b7c5906ef7 button.colab-df-convert');\n",
              "        buttonEl.style.display =\n",
              "          google.colab.kernel.accessAllowed ? 'block' : 'none';\n",
              "\n",
              "        async function convertToInteractive(key) {\n",
              "          const element = document.querySelector('#df-b00fa7a3-ede0-4b70-a8aa-b4b7c5906ef7');\n",
              "          const dataTable =\n",
              "            await google.colab.kernel.invokeFunction('convertToInteractive',\n",
              "                                                     [key], {});\n",
              "          if (!dataTable) return;\n",
              "\n",
              "          const docLinkHtml = 'Like what you see? Visit the ' +\n",
              "            '<a target=\"_blank\" href=https://colab.research.google.com/notebooks/data_table.ipynb>data table notebook</a>'\n",
              "            + ' to learn more about interactive tables.';\n",
              "          element.innerHTML = '';\n",
              "          dataTable['output_type'] = 'display_data';\n",
              "          await google.colab.output.renderOutput(dataTable, element);\n",
              "          const docLink = document.createElement('div');\n",
              "          docLink.innerHTML = docLinkHtml;\n",
              "          element.appendChild(docLink);\n",
              "        }\n",
              "      </script>\n",
              "    </div>\n",
              "  </div>\n",
              "  "
            ]
          },
          "metadata": {},
          "execution_count": 6
        }
      ]
    },
    {
      "cell_type": "code",
      "source": [
        "df.describe"
      ],
      "metadata": {
        "colab": {
          "base_uri": "https://localhost:8080/"
        },
        "id": "PvOraN6wTStd",
        "outputId": "3d7cdaf9-91d2-4b16-83c2-30410bcd27eb"
      },
      "execution_count": 8,
      "outputs": [
        {
          "output_type": "execute_result",
          "data": {
            "text/plain": [
              "<bound method NDFrame.describe of       fixed  Unnamed: 1  Unnamed: 2  Unnamed: 3  Unnamed: 4  Unnamed: 5  \\\n",
              "0       7.4       0.700        0.00         1.9       0.076        11.0   \n",
              "1       7.8       0.880        0.00         2.6       0.098        25.0   \n",
              "2       7.8       0.760        0.04         2.3       0.092        15.0   \n",
              "3      11.2       0.280        0.56         1.9       0.075        17.0   \n",
              "4       7.4       0.700        0.00         1.9       0.076        11.0   \n",
              "...     ...         ...         ...         ...         ...         ...   \n",
              "1594    6.2       0.600        0.08         2.0       0.090        32.0   \n",
              "1595    5.9       0.550        0.10         2.2       0.062        39.0   \n",
              "1596    6.3       0.510        0.13         2.3       0.076        29.0   \n",
              "1597    5.9       0.645        0.12         2.0       0.075        32.0   \n",
              "1598    6.0       0.310        0.47         3.6       0.067        18.0   \n",
              "\n",
              "      Unnamed: 6  Unnamed: 7  Unnamed: 8  Unnamed: 9  Unnamed: 10  Unnamed: 11  \n",
              "0           34.0     0.99780        3.51        0.56          9.4            5  \n",
              "1           67.0     0.99680        3.20        0.68          9.8            5  \n",
              "2           54.0     0.99700        3.26        0.65          9.8            5  \n",
              "3           60.0     0.99800        3.16        0.58          9.8            6  \n",
              "4           34.0     0.99780        3.51        0.56          9.4            5  \n",
              "...          ...         ...         ...         ...          ...          ...  \n",
              "1594        44.0     0.99490        3.45        0.58         10.5            5  \n",
              "1595        51.0     0.99512        3.52        0.76         11.2            6  \n",
              "1596        40.0     0.99574        3.42        0.75         11.0            6  \n",
              "1597        44.0     0.99547        3.57        0.71         10.2            5  \n",
              "1598        42.0     0.99549        3.39        0.66         11.0            6  \n",
              "\n",
              "[1599 rows x 12 columns]>"
            ]
          },
          "metadata": {},
          "execution_count": 8
        }
      ]
    },
    {
      "cell_type": "code",
      "source": [
        "df1.describe"
      ],
      "metadata": {
        "colab": {
          "base_uri": "https://localhost:8080/"
        },
        "id": "-5S5-RteTWtc",
        "outputId": "7d005c91-01fe-4d23-a1a6-862b781c779b"
      },
      "execution_count": 36,
      "outputs": [
        {
          "output_type": "execute_result",
          "data": {
            "text/plain": [
              "<bound method NDFrame.describe of       fixed acidity  volatile acidity  citric acid  residual sugar  chlorides  \\\n",
              "0               7.0              0.27         0.36            20.7      0.045   \n",
              "1               6.3              0.30         0.34             1.6      0.049   \n",
              "2               8.1              0.28         0.40             6.9      0.050   \n",
              "3               7.2              0.23         0.32             8.5      0.058   \n",
              "4               7.2              0.23         0.32             8.5      0.058   \n",
              "...             ...               ...          ...             ...        ...   \n",
              "4893            6.2              0.21         0.29             1.6      0.039   \n",
              "4894            6.6              0.32         0.36             8.0      0.047   \n",
              "4895            6.5              0.24         0.19             1.2      0.041   \n",
              "4896            5.5              0.29         0.30             1.1      0.022   \n",
              "4897            6.0              0.21         0.38             0.8      0.020   \n",
              "\n",
              "      free sulfur dioxide  total sulfur dioxide  density    pH  sulphates  \\\n",
              "0                    45.0                 170.0  1.00100  3.00       0.45   \n",
              "1                    14.0                 132.0  0.99400  3.30       0.49   \n",
              "2                    30.0                  97.0  0.99510  3.26       0.44   \n",
              "3                    47.0                 186.0  0.99560  3.19       0.40   \n",
              "4                    47.0                 186.0  0.99560  3.19       0.40   \n",
              "...                   ...                   ...      ...   ...        ...   \n",
              "4893                 24.0                  92.0  0.99114  3.27       0.50   \n",
              "4894                 57.0                 168.0  0.99490  3.15       0.46   \n",
              "4895                 30.0                 111.0  0.99254  2.99       0.46   \n",
              "4896                 20.0                 110.0  0.98869  3.34       0.38   \n",
              "4897                 22.0                  98.0  0.98941  3.26       0.32   \n",
              "\n",
              "      alcohol  quality  \n",
              "0         8.8        6  \n",
              "1         9.5        6  \n",
              "2        10.1        6  \n",
              "3         9.9        6  \n",
              "4         9.9        6  \n",
              "...       ...      ...  \n",
              "4893     11.2        6  \n",
              "4894      9.6        5  \n",
              "4895      9.4        6  \n",
              "4896     12.8        7  \n",
              "4897     11.8        6  \n",
              "\n",
              "[4898 rows x 12 columns]>"
            ]
          },
          "metadata": {},
          "execution_count": 36
        }
      ]
    },
    {
      "cell_type": "code",
      "source": [
        "df.info()"
      ],
      "metadata": {
        "colab": {
          "base_uri": "https://localhost:8080/"
        },
        "id": "4iIOJhq5YOsA",
        "outputId": "0c90e239-0c59-4fdf-8f96-8d3d2b7a99b1"
      },
      "execution_count": 37,
      "outputs": [
        {
          "output_type": "stream",
          "name": "stdout",
          "text": [
            "<class 'pandas.core.frame.DataFrame'>\n",
            "RangeIndex: 1599 entries, 0 to 1598\n",
            "Data columns (total 12 columns):\n",
            " #   Column       Non-Null Count  Dtype  \n",
            "---  ------       --------------  -----  \n",
            " 0   fixed        1599 non-null   float64\n",
            " 1   Unnamed: 1   1599 non-null   float64\n",
            " 2   Unnamed: 2   1599 non-null   float64\n",
            " 3   Unnamed: 3   1599 non-null   float64\n",
            " 4   Unnamed: 4   1599 non-null   float64\n",
            " 5   Unnamed: 5   1599 non-null   float64\n",
            " 6   Unnamed: 6   1599 non-null   float64\n",
            " 7   Unnamed: 7   1599 non-null   float64\n",
            " 8   Unnamed: 8   1599 non-null   float64\n",
            " 9   Unnamed: 9   1599 non-null   float64\n",
            " 10  Unnamed: 10  1599 non-null   float64\n",
            " 11  Unnamed: 11  1599 non-null   int64  \n",
            "dtypes: float64(11), int64(1)\n",
            "memory usage: 150.0 KB\n"
          ]
        }
      ]
    },
    {
      "cell_type": "code",
      "source": [
        "df1.info()"
      ],
      "metadata": {
        "colab": {
          "base_uri": "https://localhost:8080/"
        },
        "id": "79EIQZ0EYUDi",
        "outputId": "e3e70a8a-e62f-4283-b360-e53e76aa655e"
      },
      "execution_count": 38,
      "outputs": [
        {
          "output_type": "stream",
          "name": "stdout",
          "text": [
            "<class 'pandas.core.frame.DataFrame'>\n",
            "RangeIndex: 4898 entries, 0 to 4897\n",
            "Data columns (total 12 columns):\n",
            " #   Column                Non-Null Count  Dtype  \n",
            "---  ------                --------------  -----  \n",
            " 0   fixed acidity         4898 non-null   float64\n",
            " 1   volatile acidity      4898 non-null   float64\n",
            " 2   citric acid           4898 non-null   float64\n",
            " 3   residual sugar        4898 non-null   float64\n",
            " 4   chlorides             4898 non-null   float64\n",
            " 5   free sulfur dioxide   4898 non-null   float64\n",
            " 6   total sulfur dioxide  4898 non-null   float64\n",
            " 7   density               4898 non-null   float64\n",
            " 8   pH                    4898 non-null   float64\n",
            " 9   sulphates             4898 non-null   float64\n",
            " 10  alcohol               4898 non-null   float64\n",
            " 11  quality               4898 non-null   int64  \n",
            "dtypes: float64(11), int64(1)\n",
            "memory usage: 459.3 KB\n"
          ]
        }
      ]
    },
    {
      "cell_type": "code",
      "source": [
        "df.duplicated().sum()"
      ],
      "metadata": {
        "colab": {
          "base_uri": "https://localhost:8080/"
        },
        "id": "3RSPpIsaZP0o",
        "outputId": "ac0f0b56-1918-4ecd-c6b0-3ac6253dba56"
      },
      "execution_count": 40,
      "outputs": [
        {
          "output_type": "execute_result",
          "data": {
            "text/plain": [
              "240"
            ]
          },
          "metadata": {},
          "execution_count": 40
        }
      ]
    },
    {
      "cell_type": "code",
      "source": [
        "df1.duplicated().sum()"
      ],
      "metadata": {
        "colab": {
          "base_uri": "https://localhost:8080/"
        },
        "id": "odA3udFYZehL",
        "outputId": "1b68ad79-8d46-4d52-d6c9-0eaa339a7b7b"
      },
      "execution_count": 41,
      "outputs": [
        {
          "output_type": "execute_result",
          "data": {
            "text/plain": [
              "937"
            ]
          },
          "metadata": {},
          "execution_count": 41
        }
      ]
    },
    {
      "cell_type": "code",
      "source": [
        "df.isnull()"
      ],
      "metadata": {
        "colab": {
          "base_uri": "https://localhost:8080/",
          "height": 424
        },
        "id": "J76VnZUiTZH4",
        "outputId": "7e63486d-5d54-471d-d50d-10a1e084329e"
      },
      "execution_count": 10,
      "outputs": [
        {
          "output_type": "execute_result",
          "data": {
            "text/plain": [
              "      fixed  Unnamed: 1  Unnamed: 2  Unnamed: 3  Unnamed: 4  Unnamed: 5  \\\n",
              "0     False       False       False       False       False       False   \n",
              "1     False       False       False       False       False       False   \n",
              "2     False       False       False       False       False       False   \n",
              "3     False       False       False       False       False       False   \n",
              "4     False       False       False       False       False       False   \n",
              "...     ...         ...         ...         ...         ...         ...   \n",
              "1594  False       False       False       False       False       False   \n",
              "1595  False       False       False       False       False       False   \n",
              "1596  False       False       False       False       False       False   \n",
              "1597  False       False       False       False       False       False   \n",
              "1598  False       False       False       False       False       False   \n",
              "\n",
              "      Unnamed: 6  Unnamed: 7  Unnamed: 8  Unnamed: 9  Unnamed: 10  Unnamed: 11  \n",
              "0          False       False       False       False        False        False  \n",
              "1          False       False       False       False        False        False  \n",
              "2          False       False       False       False        False        False  \n",
              "3          False       False       False       False        False        False  \n",
              "4          False       False       False       False        False        False  \n",
              "...          ...         ...         ...         ...          ...          ...  \n",
              "1594       False       False       False       False        False        False  \n",
              "1595       False       False       False       False        False        False  \n",
              "1596       False       False       False       False        False        False  \n",
              "1597       False       False       False       False        False        False  \n",
              "1598       False       False       False       False        False        False  \n",
              "\n",
              "[1599 rows x 12 columns]"
            ],
            "text/html": [
              "\n",
              "  <div id=\"df-4e99beb7-6255-4708-8071-41b226e3859a\">\n",
              "    <div class=\"colab-df-container\">\n",
              "      <div>\n",
              "<style scoped>\n",
              "    .dataframe tbody tr th:only-of-type {\n",
              "        vertical-align: middle;\n",
              "    }\n",
              "\n",
              "    .dataframe tbody tr th {\n",
              "        vertical-align: top;\n",
              "    }\n",
              "\n",
              "    .dataframe thead th {\n",
              "        text-align: right;\n",
              "    }\n",
              "</style>\n",
              "<table border=\"1\" class=\"dataframe\">\n",
              "  <thead>\n",
              "    <tr style=\"text-align: right;\">\n",
              "      <th></th>\n",
              "      <th>fixed</th>\n",
              "      <th>Unnamed: 1</th>\n",
              "      <th>Unnamed: 2</th>\n",
              "      <th>Unnamed: 3</th>\n",
              "      <th>Unnamed: 4</th>\n",
              "      <th>Unnamed: 5</th>\n",
              "      <th>Unnamed: 6</th>\n",
              "      <th>Unnamed: 7</th>\n",
              "      <th>Unnamed: 8</th>\n",
              "      <th>Unnamed: 9</th>\n",
              "      <th>Unnamed: 10</th>\n",
              "      <th>Unnamed: 11</th>\n",
              "    </tr>\n",
              "  </thead>\n",
              "  <tbody>\n",
              "    <tr>\n",
              "      <th>0</th>\n",
              "      <td>False</td>\n",
              "      <td>False</td>\n",
              "      <td>False</td>\n",
              "      <td>False</td>\n",
              "      <td>False</td>\n",
              "      <td>False</td>\n",
              "      <td>False</td>\n",
              "      <td>False</td>\n",
              "      <td>False</td>\n",
              "      <td>False</td>\n",
              "      <td>False</td>\n",
              "      <td>False</td>\n",
              "    </tr>\n",
              "    <tr>\n",
              "      <th>1</th>\n",
              "      <td>False</td>\n",
              "      <td>False</td>\n",
              "      <td>False</td>\n",
              "      <td>False</td>\n",
              "      <td>False</td>\n",
              "      <td>False</td>\n",
              "      <td>False</td>\n",
              "      <td>False</td>\n",
              "      <td>False</td>\n",
              "      <td>False</td>\n",
              "      <td>False</td>\n",
              "      <td>False</td>\n",
              "    </tr>\n",
              "    <tr>\n",
              "      <th>2</th>\n",
              "      <td>False</td>\n",
              "      <td>False</td>\n",
              "      <td>False</td>\n",
              "      <td>False</td>\n",
              "      <td>False</td>\n",
              "      <td>False</td>\n",
              "      <td>False</td>\n",
              "      <td>False</td>\n",
              "      <td>False</td>\n",
              "      <td>False</td>\n",
              "      <td>False</td>\n",
              "      <td>False</td>\n",
              "    </tr>\n",
              "    <tr>\n",
              "      <th>3</th>\n",
              "      <td>False</td>\n",
              "      <td>False</td>\n",
              "      <td>False</td>\n",
              "      <td>False</td>\n",
              "      <td>False</td>\n",
              "      <td>False</td>\n",
              "      <td>False</td>\n",
              "      <td>False</td>\n",
              "      <td>False</td>\n",
              "      <td>False</td>\n",
              "      <td>False</td>\n",
              "      <td>False</td>\n",
              "    </tr>\n",
              "    <tr>\n",
              "      <th>4</th>\n",
              "      <td>False</td>\n",
              "      <td>False</td>\n",
              "      <td>False</td>\n",
              "      <td>False</td>\n",
              "      <td>False</td>\n",
              "      <td>False</td>\n",
              "      <td>False</td>\n",
              "      <td>False</td>\n",
              "      <td>False</td>\n",
              "      <td>False</td>\n",
              "      <td>False</td>\n",
              "      <td>False</td>\n",
              "    </tr>\n",
              "    <tr>\n",
              "      <th>...</th>\n",
              "      <td>...</td>\n",
              "      <td>...</td>\n",
              "      <td>...</td>\n",
              "      <td>...</td>\n",
              "      <td>...</td>\n",
              "      <td>...</td>\n",
              "      <td>...</td>\n",
              "      <td>...</td>\n",
              "      <td>...</td>\n",
              "      <td>...</td>\n",
              "      <td>...</td>\n",
              "      <td>...</td>\n",
              "    </tr>\n",
              "    <tr>\n",
              "      <th>1594</th>\n",
              "      <td>False</td>\n",
              "      <td>False</td>\n",
              "      <td>False</td>\n",
              "      <td>False</td>\n",
              "      <td>False</td>\n",
              "      <td>False</td>\n",
              "      <td>False</td>\n",
              "      <td>False</td>\n",
              "      <td>False</td>\n",
              "      <td>False</td>\n",
              "      <td>False</td>\n",
              "      <td>False</td>\n",
              "    </tr>\n",
              "    <tr>\n",
              "      <th>1595</th>\n",
              "      <td>False</td>\n",
              "      <td>False</td>\n",
              "      <td>False</td>\n",
              "      <td>False</td>\n",
              "      <td>False</td>\n",
              "      <td>False</td>\n",
              "      <td>False</td>\n",
              "      <td>False</td>\n",
              "      <td>False</td>\n",
              "      <td>False</td>\n",
              "      <td>False</td>\n",
              "      <td>False</td>\n",
              "    </tr>\n",
              "    <tr>\n",
              "      <th>1596</th>\n",
              "      <td>False</td>\n",
              "      <td>False</td>\n",
              "      <td>False</td>\n",
              "      <td>False</td>\n",
              "      <td>False</td>\n",
              "      <td>False</td>\n",
              "      <td>False</td>\n",
              "      <td>False</td>\n",
              "      <td>False</td>\n",
              "      <td>False</td>\n",
              "      <td>False</td>\n",
              "      <td>False</td>\n",
              "    </tr>\n",
              "    <tr>\n",
              "      <th>1597</th>\n",
              "      <td>False</td>\n",
              "      <td>False</td>\n",
              "      <td>False</td>\n",
              "      <td>False</td>\n",
              "      <td>False</td>\n",
              "      <td>False</td>\n",
              "      <td>False</td>\n",
              "      <td>False</td>\n",
              "      <td>False</td>\n",
              "      <td>False</td>\n",
              "      <td>False</td>\n",
              "      <td>False</td>\n",
              "    </tr>\n",
              "    <tr>\n",
              "      <th>1598</th>\n",
              "      <td>False</td>\n",
              "      <td>False</td>\n",
              "      <td>False</td>\n",
              "      <td>False</td>\n",
              "      <td>False</td>\n",
              "      <td>False</td>\n",
              "      <td>False</td>\n",
              "      <td>False</td>\n",
              "      <td>False</td>\n",
              "      <td>False</td>\n",
              "      <td>False</td>\n",
              "      <td>False</td>\n",
              "    </tr>\n",
              "  </tbody>\n",
              "</table>\n",
              "<p>1599 rows × 12 columns</p>\n",
              "</div>\n",
              "      <button class=\"colab-df-convert\" onclick=\"convertToInteractive('df-4e99beb7-6255-4708-8071-41b226e3859a')\"\n",
              "              title=\"Convert this dataframe to an interactive table.\"\n",
              "              style=\"display:none;\">\n",
              "        \n",
              "  <svg xmlns=\"http://www.w3.org/2000/svg\" height=\"24px\"viewBox=\"0 0 24 24\"\n",
              "       width=\"24px\">\n",
              "    <path d=\"M0 0h24v24H0V0z\" fill=\"none\"/>\n",
              "    <path d=\"M18.56 5.44l.94 2.06.94-2.06 2.06-.94-2.06-.94-.94-2.06-.94 2.06-2.06.94zm-11 1L8.5 8.5l.94-2.06 2.06-.94-2.06-.94L8.5 2.5l-.94 2.06-2.06.94zm10 10l.94 2.06.94-2.06 2.06-.94-2.06-.94-.94-2.06-.94 2.06-2.06.94z\"/><path d=\"M17.41 7.96l-1.37-1.37c-.4-.4-.92-.59-1.43-.59-.52 0-1.04.2-1.43.59L10.3 9.45l-7.72 7.72c-.78.78-.78 2.05 0 2.83L4 21.41c.39.39.9.59 1.41.59.51 0 1.02-.2 1.41-.59l7.78-7.78 2.81-2.81c.8-.78.8-2.07 0-2.86zM5.41 20L4 18.59l7.72-7.72 1.47 1.35L5.41 20z\"/>\n",
              "  </svg>\n",
              "      </button>\n",
              "      \n",
              "  <style>\n",
              "    .colab-df-container {\n",
              "      display:flex;\n",
              "      flex-wrap:wrap;\n",
              "      gap: 12px;\n",
              "    }\n",
              "\n",
              "    .colab-df-convert {\n",
              "      background-color: #E8F0FE;\n",
              "      border: none;\n",
              "      border-radius: 50%;\n",
              "      cursor: pointer;\n",
              "      display: none;\n",
              "      fill: #1967D2;\n",
              "      height: 32px;\n",
              "      padding: 0 0 0 0;\n",
              "      width: 32px;\n",
              "    }\n",
              "\n",
              "    .colab-df-convert:hover {\n",
              "      background-color: #E2EBFA;\n",
              "      box-shadow: 0px 1px 2px rgba(60, 64, 67, 0.3), 0px 1px 3px 1px rgba(60, 64, 67, 0.15);\n",
              "      fill: #174EA6;\n",
              "    }\n",
              "\n",
              "    [theme=dark] .colab-df-convert {\n",
              "      background-color: #3B4455;\n",
              "      fill: #D2E3FC;\n",
              "    }\n",
              "\n",
              "    [theme=dark] .colab-df-convert:hover {\n",
              "      background-color: #434B5C;\n",
              "      box-shadow: 0px 1px 3px 1px rgba(0, 0, 0, 0.15);\n",
              "      filter: drop-shadow(0px 1px 2px rgba(0, 0, 0, 0.3));\n",
              "      fill: #FFFFFF;\n",
              "    }\n",
              "  </style>\n",
              "\n",
              "      <script>\n",
              "        const buttonEl =\n",
              "          document.querySelector('#df-4e99beb7-6255-4708-8071-41b226e3859a button.colab-df-convert');\n",
              "        buttonEl.style.display =\n",
              "          google.colab.kernel.accessAllowed ? 'block' : 'none';\n",
              "\n",
              "        async function convertToInteractive(key) {\n",
              "          const element = document.querySelector('#df-4e99beb7-6255-4708-8071-41b226e3859a');\n",
              "          const dataTable =\n",
              "            await google.colab.kernel.invokeFunction('convertToInteractive',\n",
              "                                                     [key], {});\n",
              "          if (!dataTable) return;\n",
              "\n",
              "          const docLinkHtml = 'Like what you see? Visit the ' +\n",
              "            '<a target=\"_blank\" href=https://colab.research.google.com/notebooks/data_table.ipynb>data table notebook</a>'\n",
              "            + ' to learn more about interactive tables.';\n",
              "          element.innerHTML = '';\n",
              "          dataTable['output_type'] = 'display_data';\n",
              "          await google.colab.output.renderOutput(dataTable, element);\n",
              "          const docLink = document.createElement('div');\n",
              "          docLink.innerHTML = docLinkHtml;\n",
              "          element.appendChild(docLink);\n",
              "        }\n",
              "      </script>\n",
              "    </div>\n",
              "  </div>\n",
              "  "
            ]
          },
          "metadata": {},
          "execution_count": 10
        }
      ]
    },
    {
      "cell_type": "code",
      "source": [
        "df1.isnull()"
      ],
      "metadata": {
        "colab": {
          "base_uri": "https://localhost:8080/",
          "height": 424
        },
        "id": "Uamp8D8oTcP8",
        "outputId": "6415bb92-ca13-439b-eaca-dbd04bd95723"
      },
      "execution_count": 11,
      "outputs": [
        {
          "output_type": "execute_result",
          "data": {
            "text/plain": [
              "      fixed acidity  volatile acidity  citric acid  residual sugar  chlorides  \\\n",
              "0             False             False        False           False      False   \n",
              "1             False             False        False           False      False   \n",
              "2             False             False        False           False      False   \n",
              "3             False             False        False           False      False   \n",
              "4             False             False        False           False      False   \n",
              "...             ...               ...          ...             ...        ...   \n",
              "4893          False             False        False           False      False   \n",
              "4894          False             False        False           False      False   \n",
              "4895          False             False        False           False      False   \n",
              "4896          False             False        False           False      False   \n",
              "4897          False             False        False           False      False   \n",
              "\n",
              "      free sulfur dioxide  total sulfur dioxide  density     pH  sulphates  \\\n",
              "0                   False                 False    False  False      False   \n",
              "1                   False                 False    False  False      False   \n",
              "2                   False                 False    False  False      False   \n",
              "3                   False                 False    False  False      False   \n",
              "4                   False                 False    False  False      False   \n",
              "...                   ...                   ...      ...    ...        ...   \n",
              "4893                False                 False    False  False      False   \n",
              "4894                False                 False    False  False      False   \n",
              "4895                False                 False    False  False      False   \n",
              "4896                False                 False    False  False      False   \n",
              "4897                False                 False    False  False      False   \n",
              "\n",
              "      alcohol  quality  \n",
              "0       False    False  \n",
              "1       False    False  \n",
              "2       False    False  \n",
              "3       False    False  \n",
              "4       False    False  \n",
              "...       ...      ...  \n",
              "4893    False    False  \n",
              "4894    False    False  \n",
              "4895    False    False  \n",
              "4896    False    False  \n",
              "4897    False    False  \n",
              "\n",
              "[4898 rows x 12 columns]"
            ],
            "text/html": [
              "\n",
              "  <div id=\"df-1350cc32-c713-4926-ab0a-8a4711315c38\">\n",
              "    <div class=\"colab-df-container\">\n",
              "      <div>\n",
              "<style scoped>\n",
              "    .dataframe tbody tr th:only-of-type {\n",
              "        vertical-align: middle;\n",
              "    }\n",
              "\n",
              "    .dataframe tbody tr th {\n",
              "        vertical-align: top;\n",
              "    }\n",
              "\n",
              "    .dataframe thead th {\n",
              "        text-align: right;\n",
              "    }\n",
              "</style>\n",
              "<table border=\"1\" class=\"dataframe\">\n",
              "  <thead>\n",
              "    <tr style=\"text-align: right;\">\n",
              "      <th></th>\n",
              "      <th>fixed acidity</th>\n",
              "      <th>volatile acidity</th>\n",
              "      <th>citric acid</th>\n",
              "      <th>residual sugar</th>\n",
              "      <th>chlorides</th>\n",
              "      <th>free sulfur dioxide</th>\n",
              "      <th>total sulfur dioxide</th>\n",
              "      <th>density</th>\n",
              "      <th>pH</th>\n",
              "      <th>sulphates</th>\n",
              "      <th>alcohol</th>\n",
              "      <th>quality</th>\n",
              "    </tr>\n",
              "  </thead>\n",
              "  <tbody>\n",
              "    <tr>\n",
              "      <th>0</th>\n",
              "      <td>False</td>\n",
              "      <td>False</td>\n",
              "      <td>False</td>\n",
              "      <td>False</td>\n",
              "      <td>False</td>\n",
              "      <td>False</td>\n",
              "      <td>False</td>\n",
              "      <td>False</td>\n",
              "      <td>False</td>\n",
              "      <td>False</td>\n",
              "      <td>False</td>\n",
              "      <td>False</td>\n",
              "    </tr>\n",
              "    <tr>\n",
              "      <th>1</th>\n",
              "      <td>False</td>\n",
              "      <td>False</td>\n",
              "      <td>False</td>\n",
              "      <td>False</td>\n",
              "      <td>False</td>\n",
              "      <td>False</td>\n",
              "      <td>False</td>\n",
              "      <td>False</td>\n",
              "      <td>False</td>\n",
              "      <td>False</td>\n",
              "      <td>False</td>\n",
              "      <td>False</td>\n",
              "    </tr>\n",
              "    <tr>\n",
              "      <th>2</th>\n",
              "      <td>False</td>\n",
              "      <td>False</td>\n",
              "      <td>False</td>\n",
              "      <td>False</td>\n",
              "      <td>False</td>\n",
              "      <td>False</td>\n",
              "      <td>False</td>\n",
              "      <td>False</td>\n",
              "      <td>False</td>\n",
              "      <td>False</td>\n",
              "      <td>False</td>\n",
              "      <td>False</td>\n",
              "    </tr>\n",
              "    <tr>\n",
              "      <th>3</th>\n",
              "      <td>False</td>\n",
              "      <td>False</td>\n",
              "      <td>False</td>\n",
              "      <td>False</td>\n",
              "      <td>False</td>\n",
              "      <td>False</td>\n",
              "      <td>False</td>\n",
              "      <td>False</td>\n",
              "      <td>False</td>\n",
              "      <td>False</td>\n",
              "      <td>False</td>\n",
              "      <td>False</td>\n",
              "    </tr>\n",
              "    <tr>\n",
              "      <th>4</th>\n",
              "      <td>False</td>\n",
              "      <td>False</td>\n",
              "      <td>False</td>\n",
              "      <td>False</td>\n",
              "      <td>False</td>\n",
              "      <td>False</td>\n",
              "      <td>False</td>\n",
              "      <td>False</td>\n",
              "      <td>False</td>\n",
              "      <td>False</td>\n",
              "      <td>False</td>\n",
              "      <td>False</td>\n",
              "    </tr>\n",
              "    <tr>\n",
              "      <th>...</th>\n",
              "      <td>...</td>\n",
              "      <td>...</td>\n",
              "      <td>...</td>\n",
              "      <td>...</td>\n",
              "      <td>...</td>\n",
              "      <td>...</td>\n",
              "      <td>...</td>\n",
              "      <td>...</td>\n",
              "      <td>...</td>\n",
              "      <td>...</td>\n",
              "      <td>...</td>\n",
              "      <td>...</td>\n",
              "    </tr>\n",
              "    <tr>\n",
              "      <th>4893</th>\n",
              "      <td>False</td>\n",
              "      <td>False</td>\n",
              "      <td>False</td>\n",
              "      <td>False</td>\n",
              "      <td>False</td>\n",
              "      <td>False</td>\n",
              "      <td>False</td>\n",
              "      <td>False</td>\n",
              "      <td>False</td>\n",
              "      <td>False</td>\n",
              "      <td>False</td>\n",
              "      <td>False</td>\n",
              "    </tr>\n",
              "    <tr>\n",
              "      <th>4894</th>\n",
              "      <td>False</td>\n",
              "      <td>False</td>\n",
              "      <td>False</td>\n",
              "      <td>False</td>\n",
              "      <td>False</td>\n",
              "      <td>False</td>\n",
              "      <td>False</td>\n",
              "      <td>False</td>\n",
              "      <td>False</td>\n",
              "      <td>False</td>\n",
              "      <td>False</td>\n",
              "      <td>False</td>\n",
              "    </tr>\n",
              "    <tr>\n",
              "      <th>4895</th>\n",
              "      <td>False</td>\n",
              "      <td>False</td>\n",
              "      <td>False</td>\n",
              "      <td>False</td>\n",
              "      <td>False</td>\n",
              "      <td>False</td>\n",
              "      <td>False</td>\n",
              "      <td>False</td>\n",
              "      <td>False</td>\n",
              "      <td>False</td>\n",
              "      <td>False</td>\n",
              "      <td>False</td>\n",
              "    </tr>\n",
              "    <tr>\n",
              "      <th>4896</th>\n",
              "      <td>False</td>\n",
              "      <td>False</td>\n",
              "      <td>False</td>\n",
              "      <td>False</td>\n",
              "      <td>False</td>\n",
              "      <td>False</td>\n",
              "      <td>False</td>\n",
              "      <td>False</td>\n",
              "      <td>False</td>\n",
              "      <td>False</td>\n",
              "      <td>False</td>\n",
              "      <td>False</td>\n",
              "    </tr>\n",
              "    <tr>\n",
              "      <th>4897</th>\n",
              "      <td>False</td>\n",
              "      <td>False</td>\n",
              "      <td>False</td>\n",
              "      <td>False</td>\n",
              "      <td>False</td>\n",
              "      <td>False</td>\n",
              "      <td>False</td>\n",
              "      <td>False</td>\n",
              "      <td>False</td>\n",
              "      <td>False</td>\n",
              "      <td>False</td>\n",
              "      <td>False</td>\n",
              "    </tr>\n",
              "  </tbody>\n",
              "</table>\n",
              "<p>4898 rows × 12 columns</p>\n",
              "</div>\n",
              "      <button class=\"colab-df-convert\" onclick=\"convertToInteractive('df-1350cc32-c713-4926-ab0a-8a4711315c38')\"\n",
              "              title=\"Convert this dataframe to an interactive table.\"\n",
              "              style=\"display:none;\">\n",
              "        \n",
              "  <svg xmlns=\"http://www.w3.org/2000/svg\" height=\"24px\"viewBox=\"0 0 24 24\"\n",
              "       width=\"24px\">\n",
              "    <path d=\"M0 0h24v24H0V0z\" fill=\"none\"/>\n",
              "    <path d=\"M18.56 5.44l.94 2.06.94-2.06 2.06-.94-2.06-.94-.94-2.06-.94 2.06-2.06.94zm-11 1L8.5 8.5l.94-2.06 2.06-.94-2.06-.94L8.5 2.5l-.94 2.06-2.06.94zm10 10l.94 2.06.94-2.06 2.06-.94-2.06-.94-.94-2.06-.94 2.06-2.06.94z\"/><path d=\"M17.41 7.96l-1.37-1.37c-.4-.4-.92-.59-1.43-.59-.52 0-1.04.2-1.43.59L10.3 9.45l-7.72 7.72c-.78.78-.78 2.05 0 2.83L4 21.41c.39.39.9.59 1.41.59.51 0 1.02-.2 1.41-.59l7.78-7.78 2.81-2.81c.8-.78.8-2.07 0-2.86zM5.41 20L4 18.59l7.72-7.72 1.47 1.35L5.41 20z\"/>\n",
              "  </svg>\n",
              "      </button>\n",
              "      \n",
              "  <style>\n",
              "    .colab-df-container {\n",
              "      display:flex;\n",
              "      flex-wrap:wrap;\n",
              "      gap: 12px;\n",
              "    }\n",
              "\n",
              "    .colab-df-convert {\n",
              "      background-color: #E8F0FE;\n",
              "      border: none;\n",
              "      border-radius: 50%;\n",
              "      cursor: pointer;\n",
              "      display: none;\n",
              "      fill: #1967D2;\n",
              "      height: 32px;\n",
              "      padding: 0 0 0 0;\n",
              "      width: 32px;\n",
              "    }\n",
              "\n",
              "    .colab-df-convert:hover {\n",
              "      background-color: #E2EBFA;\n",
              "      box-shadow: 0px 1px 2px rgba(60, 64, 67, 0.3), 0px 1px 3px 1px rgba(60, 64, 67, 0.15);\n",
              "      fill: #174EA6;\n",
              "    }\n",
              "\n",
              "    [theme=dark] .colab-df-convert {\n",
              "      background-color: #3B4455;\n",
              "      fill: #D2E3FC;\n",
              "    }\n",
              "\n",
              "    [theme=dark] .colab-df-convert:hover {\n",
              "      background-color: #434B5C;\n",
              "      box-shadow: 0px 1px 3px 1px rgba(0, 0, 0, 0.15);\n",
              "      filter: drop-shadow(0px 1px 2px rgba(0, 0, 0, 0.3));\n",
              "      fill: #FFFFFF;\n",
              "    }\n",
              "  </style>\n",
              "\n",
              "      <script>\n",
              "        const buttonEl =\n",
              "          document.querySelector('#df-1350cc32-c713-4926-ab0a-8a4711315c38 button.colab-df-convert');\n",
              "        buttonEl.style.display =\n",
              "          google.colab.kernel.accessAllowed ? 'block' : 'none';\n",
              "\n",
              "        async function convertToInteractive(key) {\n",
              "          const element = document.querySelector('#df-1350cc32-c713-4926-ab0a-8a4711315c38');\n",
              "          const dataTable =\n",
              "            await google.colab.kernel.invokeFunction('convertToInteractive',\n",
              "                                                     [key], {});\n",
              "          if (!dataTable) return;\n",
              "\n",
              "          const docLinkHtml = 'Like what you see? Visit the ' +\n",
              "            '<a target=\"_blank\" href=https://colab.research.google.com/notebooks/data_table.ipynb>data table notebook</a>'\n",
              "            + ' to learn more about interactive tables.';\n",
              "          element.innerHTML = '';\n",
              "          dataTable['output_type'] = 'display_data';\n",
              "          await google.colab.output.renderOutput(dataTable, element);\n",
              "          const docLink = document.createElement('div');\n",
              "          docLink.innerHTML = docLinkHtml;\n",
              "          element.appendChild(docLink);\n",
              "        }\n",
              "      </script>\n",
              "    </div>\n",
              "  </div>\n",
              "  "
            ]
          },
          "metadata": {},
          "execution_count": 11
        }
      ]
    },
    {
      "cell_type": "code",
      "source": [
        "df.isnull().sum()"
      ],
      "metadata": {
        "colab": {
          "base_uri": "https://localhost:8080/"
        },
        "id": "3g9SFU-mTemT",
        "outputId": "e293a268-e424-4c62-efe2-4d3551a43a9b"
      },
      "execution_count": 12,
      "outputs": [
        {
          "output_type": "execute_result",
          "data": {
            "text/plain": [
              "fixed          0\n",
              "Unnamed: 1     0\n",
              "Unnamed: 2     0\n",
              "Unnamed: 3     0\n",
              "Unnamed: 4     0\n",
              "Unnamed: 5     0\n",
              "Unnamed: 6     0\n",
              "Unnamed: 7     0\n",
              "Unnamed: 8     0\n",
              "Unnamed: 9     0\n",
              "Unnamed: 10    0\n",
              "Unnamed: 11    0\n",
              "dtype: int64"
            ]
          },
          "metadata": {},
          "execution_count": 12
        }
      ]
    },
    {
      "cell_type": "code",
      "source": [
        "df1.isnull().sum()"
      ],
      "metadata": {
        "colab": {
          "base_uri": "https://localhost:8080/"
        },
        "id": "0DMvci0PTkH3",
        "outputId": "dead6466-a8de-4e0d-bf71-a506886c6b70"
      },
      "execution_count": 13,
      "outputs": [
        {
          "output_type": "execute_result",
          "data": {
            "text/plain": [
              "fixed acidity           0\n",
              "volatile acidity        0\n",
              "citric acid             0\n",
              "residual sugar          0\n",
              "chlorides               0\n",
              "free sulfur dioxide     0\n",
              "total sulfur dioxide    0\n",
              "density                 0\n",
              "pH                      0\n",
              "sulphates               0\n",
              "alcohol                 0\n",
              "quality                 0\n",
              "dtype: int64"
            ]
          },
          "metadata": {},
          "execution_count": 13
        }
      ]
    },
    {
      "cell_type": "code",
      "source": [
        "df.corr()"
      ],
      "metadata": {
        "colab": {
          "base_uri": "https://localhost:8080/",
          "height": 426
        },
        "id": "met87_5rZoR8",
        "outputId": "7e76f663-57da-472c-f185-b11d868af515"
      },
      "execution_count": 42,
      "outputs": [
        {
          "output_type": "execute_result",
          "data": {
            "text/plain": [
              "                fixed  Unnamed: 1  Unnamed: 2  Unnamed: 3  Unnamed: 4  \\\n",
              "fixed        1.000000   -0.256131    0.671703    0.114777    0.093705   \n",
              "Unnamed: 1  -0.256131    1.000000   -0.552496    0.001918    0.061298   \n",
              "Unnamed: 2   0.671703   -0.552496    1.000000    0.143577    0.203823   \n",
              "Unnamed: 3   0.114777    0.001918    0.143577    1.000000    0.055610   \n",
              "Unnamed: 4   0.093705    0.061298    0.203823    0.055610    1.000000   \n",
              "Unnamed: 5  -0.153794   -0.010504   -0.060978    0.187049    0.005562   \n",
              "Unnamed: 6  -0.113181    0.076470    0.035533    0.203028    0.047400   \n",
              "Unnamed: 7   0.668047    0.022026    0.364947    0.355283    0.200632   \n",
              "Unnamed: 8  -0.682978    0.234937   -0.541904   -0.085652   -0.265026   \n",
              "Unnamed: 9   0.183006   -0.260987    0.312770    0.005527    0.371260   \n",
              "Unnamed: 10 -0.061668   -0.202288    0.109903    0.042075   -0.221141   \n",
              "Unnamed: 11  0.124052   -0.390558    0.226373    0.013732   -0.128907   \n",
              "\n",
              "             Unnamed: 5  Unnamed: 6  Unnamed: 7  Unnamed: 8  Unnamed: 9  \\\n",
              "fixed         -0.153794   -0.113181    0.668047   -0.682978    0.183006   \n",
              "Unnamed: 1    -0.010504    0.076470    0.022026    0.234937   -0.260987   \n",
              "Unnamed: 2    -0.060978    0.035533    0.364947   -0.541904    0.312770   \n",
              "Unnamed: 3     0.187049    0.203028    0.355283   -0.085652    0.005527   \n",
              "Unnamed: 4     0.005562    0.047400    0.200632   -0.265026    0.371260   \n",
              "Unnamed: 5     1.000000    0.667666   -0.021946    0.070377    0.051658   \n",
              "Unnamed: 6     0.667666    1.000000    0.071269   -0.066495    0.042947   \n",
              "Unnamed: 7    -0.021946    0.071269    1.000000   -0.341699    0.148506   \n",
              "Unnamed: 8     0.070377   -0.066495   -0.341699    1.000000   -0.196648   \n",
              "Unnamed: 9     0.051658    0.042947    0.148506   -0.196648    1.000000   \n",
              "Unnamed: 10   -0.069408   -0.205654   -0.496180    0.205633    0.093595   \n",
              "Unnamed: 11   -0.050656   -0.185100   -0.174919   -0.057731    0.251397   \n",
              "\n",
              "             Unnamed: 10  Unnamed: 11  \n",
              "fixed          -0.061668     0.124052  \n",
              "Unnamed: 1     -0.202288    -0.390558  \n",
              "Unnamed: 2      0.109903     0.226373  \n",
              "Unnamed: 3      0.042075     0.013732  \n",
              "Unnamed: 4     -0.221141    -0.128907  \n",
              "Unnamed: 5     -0.069408    -0.050656  \n",
              "Unnamed: 6     -0.205654    -0.185100  \n",
              "Unnamed: 7     -0.496180    -0.174919  \n",
              "Unnamed: 8      0.205633    -0.057731  \n",
              "Unnamed: 9      0.093595     0.251397  \n",
              "Unnamed: 10     1.000000     0.476166  \n",
              "Unnamed: 11     0.476166     1.000000  "
            ],
            "text/html": [
              "\n",
              "  <div id=\"df-dd2fcf79-faed-40e8-8c4e-ea2b7e5d1cff\">\n",
              "    <div class=\"colab-df-container\">\n",
              "      <div>\n",
              "<style scoped>\n",
              "    .dataframe tbody tr th:only-of-type {\n",
              "        vertical-align: middle;\n",
              "    }\n",
              "\n",
              "    .dataframe tbody tr th {\n",
              "        vertical-align: top;\n",
              "    }\n",
              "\n",
              "    .dataframe thead th {\n",
              "        text-align: right;\n",
              "    }\n",
              "</style>\n",
              "<table border=\"1\" class=\"dataframe\">\n",
              "  <thead>\n",
              "    <tr style=\"text-align: right;\">\n",
              "      <th></th>\n",
              "      <th>fixed</th>\n",
              "      <th>Unnamed: 1</th>\n",
              "      <th>Unnamed: 2</th>\n",
              "      <th>Unnamed: 3</th>\n",
              "      <th>Unnamed: 4</th>\n",
              "      <th>Unnamed: 5</th>\n",
              "      <th>Unnamed: 6</th>\n",
              "      <th>Unnamed: 7</th>\n",
              "      <th>Unnamed: 8</th>\n",
              "      <th>Unnamed: 9</th>\n",
              "      <th>Unnamed: 10</th>\n",
              "      <th>Unnamed: 11</th>\n",
              "    </tr>\n",
              "  </thead>\n",
              "  <tbody>\n",
              "    <tr>\n",
              "      <th>fixed</th>\n",
              "      <td>1.000000</td>\n",
              "      <td>-0.256131</td>\n",
              "      <td>0.671703</td>\n",
              "      <td>0.114777</td>\n",
              "      <td>0.093705</td>\n",
              "      <td>-0.153794</td>\n",
              "      <td>-0.113181</td>\n",
              "      <td>0.668047</td>\n",
              "      <td>-0.682978</td>\n",
              "      <td>0.183006</td>\n",
              "      <td>-0.061668</td>\n",
              "      <td>0.124052</td>\n",
              "    </tr>\n",
              "    <tr>\n",
              "      <th>Unnamed: 1</th>\n",
              "      <td>-0.256131</td>\n",
              "      <td>1.000000</td>\n",
              "      <td>-0.552496</td>\n",
              "      <td>0.001918</td>\n",
              "      <td>0.061298</td>\n",
              "      <td>-0.010504</td>\n",
              "      <td>0.076470</td>\n",
              "      <td>0.022026</td>\n",
              "      <td>0.234937</td>\n",
              "      <td>-0.260987</td>\n",
              "      <td>-0.202288</td>\n",
              "      <td>-0.390558</td>\n",
              "    </tr>\n",
              "    <tr>\n",
              "      <th>Unnamed: 2</th>\n",
              "      <td>0.671703</td>\n",
              "      <td>-0.552496</td>\n",
              "      <td>1.000000</td>\n",
              "      <td>0.143577</td>\n",
              "      <td>0.203823</td>\n",
              "      <td>-0.060978</td>\n",
              "      <td>0.035533</td>\n",
              "      <td>0.364947</td>\n",
              "      <td>-0.541904</td>\n",
              "      <td>0.312770</td>\n",
              "      <td>0.109903</td>\n",
              "      <td>0.226373</td>\n",
              "    </tr>\n",
              "    <tr>\n",
              "      <th>Unnamed: 3</th>\n",
              "      <td>0.114777</td>\n",
              "      <td>0.001918</td>\n",
              "      <td>0.143577</td>\n",
              "      <td>1.000000</td>\n",
              "      <td>0.055610</td>\n",
              "      <td>0.187049</td>\n",
              "      <td>0.203028</td>\n",
              "      <td>0.355283</td>\n",
              "      <td>-0.085652</td>\n",
              "      <td>0.005527</td>\n",
              "      <td>0.042075</td>\n",
              "      <td>0.013732</td>\n",
              "    </tr>\n",
              "    <tr>\n",
              "      <th>Unnamed: 4</th>\n",
              "      <td>0.093705</td>\n",
              "      <td>0.061298</td>\n",
              "      <td>0.203823</td>\n",
              "      <td>0.055610</td>\n",
              "      <td>1.000000</td>\n",
              "      <td>0.005562</td>\n",
              "      <td>0.047400</td>\n",
              "      <td>0.200632</td>\n",
              "      <td>-0.265026</td>\n",
              "      <td>0.371260</td>\n",
              "      <td>-0.221141</td>\n",
              "      <td>-0.128907</td>\n",
              "    </tr>\n",
              "    <tr>\n",
              "      <th>Unnamed: 5</th>\n",
              "      <td>-0.153794</td>\n",
              "      <td>-0.010504</td>\n",
              "      <td>-0.060978</td>\n",
              "      <td>0.187049</td>\n",
              "      <td>0.005562</td>\n",
              "      <td>1.000000</td>\n",
              "      <td>0.667666</td>\n",
              "      <td>-0.021946</td>\n",
              "      <td>0.070377</td>\n",
              "      <td>0.051658</td>\n",
              "      <td>-0.069408</td>\n",
              "      <td>-0.050656</td>\n",
              "    </tr>\n",
              "    <tr>\n",
              "      <th>Unnamed: 6</th>\n",
              "      <td>-0.113181</td>\n",
              "      <td>0.076470</td>\n",
              "      <td>0.035533</td>\n",
              "      <td>0.203028</td>\n",
              "      <td>0.047400</td>\n",
              "      <td>0.667666</td>\n",
              "      <td>1.000000</td>\n",
              "      <td>0.071269</td>\n",
              "      <td>-0.066495</td>\n",
              "      <td>0.042947</td>\n",
              "      <td>-0.205654</td>\n",
              "      <td>-0.185100</td>\n",
              "    </tr>\n",
              "    <tr>\n",
              "      <th>Unnamed: 7</th>\n",
              "      <td>0.668047</td>\n",
              "      <td>0.022026</td>\n",
              "      <td>0.364947</td>\n",
              "      <td>0.355283</td>\n",
              "      <td>0.200632</td>\n",
              "      <td>-0.021946</td>\n",
              "      <td>0.071269</td>\n",
              "      <td>1.000000</td>\n",
              "      <td>-0.341699</td>\n",
              "      <td>0.148506</td>\n",
              "      <td>-0.496180</td>\n",
              "      <td>-0.174919</td>\n",
              "    </tr>\n",
              "    <tr>\n",
              "      <th>Unnamed: 8</th>\n",
              "      <td>-0.682978</td>\n",
              "      <td>0.234937</td>\n",
              "      <td>-0.541904</td>\n",
              "      <td>-0.085652</td>\n",
              "      <td>-0.265026</td>\n",
              "      <td>0.070377</td>\n",
              "      <td>-0.066495</td>\n",
              "      <td>-0.341699</td>\n",
              "      <td>1.000000</td>\n",
              "      <td>-0.196648</td>\n",
              "      <td>0.205633</td>\n",
              "      <td>-0.057731</td>\n",
              "    </tr>\n",
              "    <tr>\n",
              "      <th>Unnamed: 9</th>\n",
              "      <td>0.183006</td>\n",
              "      <td>-0.260987</td>\n",
              "      <td>0.312770</td>\n",
              "      <td>0.005527</td>\n",
              "      <td>0.371260</td>\n",
              "      <td>0.051658</td>\n",
              "      <td>0.042947</td>\n",
              "      <td>0.148506</td>\n",
              "      <td>-0.196648</td>\n",
              "      <td>1.000000</td>\n",
              "      <td>0.093595</td>\n",
              "      <td>0.251397</td>\n",
              "    </tr>\n",
              "    <tr>\n",
              "      <th>Unnamed: 10</th>\n",
              "      <td>-0.061668</td>\n",
              "      <td>-0.202288</td>\n",
              "      <td>0.109903</td>\n",
              "      <td>0.042075</td>\n",
              "      <td>-0.221141</td>\n",
              "      <td>-0.069408</td>\n",
              "      <td>-0.205654</td>\n",
              "      <td>-0.496180</td>\n",
              "      <td>0.205633</td>\n",
              "      <td>0.093595</td>\n",
              "      <td>1.000000</td>\n",
              "      <td>0.476166</td>\n",
              "    </tr>\n",
              "    <tr>\n",
              "      <th>Unnamed: 11</th>\n",
              "      <td>0.124052</td>\n",
              "      <td>-0.390558</td>\n",
              "      <td>0.226373</td>\n",
              "      <td>0.013732</td>\n",
              "      <td>-0.128907</td>\n",
              "      <td>-0.050656</td>\n",
              "      <td>-0.185100</td>\n",
              "      <td>-0.174919</td>\n",
              "      <td>-0.057731</td>\n",
              "      <td>0.251397</td>\n",
              "      <td>0.476166</td>\n",
              "      <td>1.000000</td>\n",
              "    </tr>\n",
              "  </tbody>\n",
              "</table>\n",
              "</div>\n",
              "      <button class=\"colab-df-convert\" onclick=\"convertToInteractive('df-dd2fcf79-faed-40e8-8c4e-ea2b7e5d1cff')\"\n",
              "              title=\"Convert this dataframe to an interactive table.\"\n",
              "              style=\"display:none;\">\n",
              "        \n",
              "  <svg xmlns=\"http://www.w3.org/2000/svg\" height=\"24px\"viewBox=\"0 0 24 24\"\n",
              "       width=\"24px\">\n",
              "    <path d=\"M0 0h24v24H0V0z\" fill=\"none\"/>\n",
              "    <path d=\"M18.56 5.44l.94 2.06.94-2.06 2.06-.94-2.06-.94-.94-2.06-.94 2.06-2.06.94zm-11 1L8.5 8.5l.94-2.06 2.06-.94-2.06-.94L8.5 2.5l-.94 2.06-2.06.94zm10 10l.94 2.06.94-2.06 2.06-.94-2.06-.94-.94-2.06-.94 2.06-2.06.94z\"/><path d=\"M17.41 7.96l-1.37-1.37c-.4-.4-.92-.59-1.43-.59-.52 0-1.04.2-1.43.59L10.3 9.45l-7.72 7.72c-.78.78-.78 2.05 0 2.83L4 21.41c.39.39.9.59 1.41.59.51 0 1.02-.2 1.41-.59l7.78-7.78 2.81-2.81c.8-.78.8-2.07 0-2.86zM5.41 20L4 18.59l7.72-7.72 1.47 1.35L5.41 20z\"/>\n",
              "  </svg>\n",
              "      </button>\n",
              "      \n",
              "  <style>\n",
              "    .colab-df-container {\n",
              "      display:flex;\n",
              "      flex-wrap:wrap;\n",
              "      gap: 12px;\n",
              "    }\n",
              "\n",
              "    .colab-df-convert {\n",
              "      background-color: #E8F0FE;\n",
              "      border: none;\n",
              "      border-radius: 50%;\n",
              "      cursor: pointer;\n",
              "      display: none;\n",
              "      fill: #1967D2;\n",
              "      height: 32px;\n",
              "      padding: 0 0 0 0;\n",
              "      width: 32px;\n",
              "    }\n",
              "\n",
              "    .colab-df-convert:hover {\n",
              "      background-color: #E2EBFA;\n",
              "      box-shadow: 0px 1px 2px rgba(60, 64, 67, 0.3), 0px 1px 3px 1px rgba(60, 64, 67, 0.15);\n",
              "      fill: #174EA6;\n",
              "    }\n",
              "\n",
              "    [theme=dark] .colab-df-convert {\n",
              "      background-color: #3B4455;\n",
              "      fill: #D2E3FC;\n",
              "    }\n",
              "\n",
              "    [theme=dark] .colab-df-convert:hover {\n",
              "      background-color: #434B5C;\n",
              "      box-shadow: 0px 1px 3px 1px rgba(0, 0, 0, 0.15);\n",
              "      filter: drop-shadow(0px 1px 2px rgba(0, 0, 0, 0.3));\n",
              "      fill: #FFFFFF;\n",
              "    }\n",
              "  </style>\n",
              "\n",
              "      <script>\n",
              "        const buttonEl =\n",
              "          document.querySelector('#df-dd2fcf79-faed-40e8-8c4e-ea2b7e5d1cff button.colab-df-convert');\n",
              "        buttonEl.style.display =\n",
              "          google.colab.kernel.accessAllowed ? 'block' : 'none';\n",
              "\n",
              "        async function convertToInteractive(key) {\n",
              "          const element = document.querySelector('#df-dd2fcf79-faed-40e8-8c4e-ea2b7e5d1cff');\n",
              "          const dataTable =\n",
              "            await google.colab.kernel.invokeFunction('convertToInteractive',\n",
              "                                                     [key], {});\n",
              "          if (!dataTable) return;\n",
              "\n",
              "          const docLinkHtml = 'Like what you see? Visit the ' +\n",
              "            '<a target=\"_blank\" href=https://colab.research.google.com/notebooks/data_table.ipynb>data table notebook</a>'\n",
              "            + ' to learn more about interactive tables.';\n",
              "          element.innerHTML = '';\n",
              "          dataTable['output_type'] = 'display_data';\n",
              "          await google.colab.output.renderOutput(dataTable, element);\n",
              "          const docLink = document.createElement('div');\n",
              "          docLink.innerHTML = docLinkHtml;\n",
              "          element.appendChild(docLink);\n",
              "        }\n",
              "      </script>\n",
              "    </div>\n",
              "  </div>\n",
              "  "
            ]
          },
          "metadata": {},
          "execution_count": 42
        }
      ]
    },
    {
      "cell_type": "code",
      "source": [
        "df1.corr()"
      ],
      "metadata": {
        "colab": {
          "base_uri": "https://localhost:8080/",
          "height": 470
        },
        "id": "NOiGk5vXZr9f",
        "outputId": "09ca557c-f4d9-4bbf-c56b-0bc2859f8a58"
      },
      "execution_count": 43,
      "outputs": [
        {
          "output_type": "execute_result",
          "data": {
            "text/plain": [
              "                      fixed acidity  volatile acidity  citric acid  \\\n",
              "fixed acidity              1.000000         -0.022697     0.289181   \n",
              "volatile acidity          -0.022697          1.000000    -0.149472   \n",
              "citric acid                0.289181         -0.149472     1.000000   \n",
              "residual sugar             0.089021          0.064286     0.094212   \n",
              "chlorides                  0.023086          0.070512     0.114364   \n",
              "free sulfur dioxide       -0.049396         -0.097012     0.094077   \n",
              "total sulfur dioxide       0.091070          0.089261     0.121131   \n",
              "density                    0.265331          0.027114     0.149503   \n",
              "pH                        -0.425858         -0.031915    -0.163748   \n",
              "sulphates                 -0.017143         -0.035728     0.062331   \n",
              "alcohol                   -0.120881          0.067718    -0.075729   \n",
              "quality                   -0.113663         -0.194723    -0.009209   \n",
              "\n",
              "                      residual sugar  chlorides  free sulfur dioxide  \\\n",
              "fixed acidity               0.089021   0.023086            -0.049396   \n",
              "volatile acidity            0.064286   0.070512            -0.097012   \n",
              "citric acid                 0.094212   0.114364             0.094077   \n",
              "residual sugar              1.000000   0.088685             0.299098   \n",
              "chlorides                   0.088685   1.000000             0.101392   \n",
              "free sulfur dioxide         0.299098   0.101392             1.000000   \n",
              "total sulfur dioxide        0.401439   0.198910             0.615501   \n",
              "density                     0.838966   0.257211             0.294210   \n",
              "pH                         -0.194133  -0.090439            -0.000618   \n",
              "sulphates                  -0.026664   0.016763             0.059217   \n",
              "alcohol                    -0.450631  -0.360189            -0.250104   \n",
              "quality                    -0.097577  -0.209934             0.008158   \n",
              "\n",
              "                      total sulfur dioxide   density        pH  sulphates  \\\n",
              "fixed acidity                     0.091070  0.265331 -0.425858  -0.017143   \n",
              "volatile acidity                  0.089261  0.027114 -0.031915  -0.035728   \n",
              "citric acid                       0.121131  0.149503 -0.163748   0.062331   \n",
              "residual sugar                    0.401439  0.838966 -0.194133  -0.026664   \n",
              "chlorides                         0.198910  0.257211 -0.090439   0.016763   \n",
              "free sulfur dioxide               0.615501  0.294210 -0.000618   0.059217   \n",
              "total sulfur dioxide              1.000000  0.529881  0.002321   0.134562   \n",
              "density                           0.529881  1.000000 -0.093591   0.074493   \n",
              "pH                                0.002321 -0.093591  1.000000   0.155951   \n",
              "sulphates                         0.134562  0.074493  0.155951   1.000000   \n",
              "alcohol                          -0.448892 -0.780138  0.121432  -0.017433   \n",
              "quality                          -0.174737 -0.307123  0.099427   0.053678   \n",
              "\n",
              "                       alcohol   quality  \n",
              "fixed acidity        -0.120881 -0.113663  \n",
              "volatile acidity      0.067718 -0.194723  \n",
              "citric acid          -0.075729 -0.009209  \n",
              "residual sugar       -0.450631 -0.097577  \n",
              "chlorides            -0.360189 -0.209934  \n",
              "free sulfur dioxide  -0.250104  0.008158  \n",
              "total sulfur dioxide -0.448892 -0.174737  \n",
              "density              -0.780138 -0.307123  \n",
              "pH                    0.121432  0.099427  \n",
              "sulphates            -0.017433  0.053678  \n",
              "alcohol               1.000000  0.435575  \n",
              "quality               0.435575  1.000000  "
            ],
            "text/html": [
              "\n",
              "  <div id=\"df-d4546b15-d86a-4d2f-b51e-15cf5bef23dc\">\n",
              "    <div class=\"colab-df-container\">\n",
              "      <div>\n",
              "<style scoped>\n",
              "    .dataframe tbody tr th:only-of-type {\n",
              "        vertical-align: middle;\n",
              "    }\n",
              "\n",
              "    .dataframe tbody tr th {\n",
              "        vertical-align: top;\n",
              "    }\n",
              "\n",
              "    .dataframe thead th {\n",
              "        text-align: right;\n",
              "    }\n",
              "</style>\n",
              "<table border=\"1\" class=\"dataframe\">\n",
              "  <thead>\n",
              "    <tr style=\"text-align: right;\">\n",
              "      <th></th>\n",
              "      <th>fixed acidity</th>\n",
              "      <th>volatile acidity</th>\n",
              "      <th>citric acid</th>\n",
              "      <th>residual sugar</th>\n",
              "      <th>chlorides</th>\n",
              "      <th>free sulfur dioxide</th>\n",
              "      <th>total sulfur dioxide</th>\n",
              "      <th>density</th>\n",
              "      <th>pH</th>\n",
              "      <th>sulphates</th>\n",
              "      <th>alcohol</th>\n",
              "      <th>quality</th>\n",
              "    </tr>\n",
              "  </thead>\n",
              "  <tbody>\n",
              "    <tr>\n",
              "      <th>fixed acidity</th>\n",
              "      <td>1.000000</td>\n",
              "      <td>-0.022697</td>\n",
              "      <td>0.289181</td>\n",
              "      <td>0.089021</td>\n",
              "      <td>0.023086</td>\n",
              "      <td>-0.049396</td>\n",
              "      <td>0.091070</td>\n",
              "      <td>0.265331</td>\n",
              "      <td>-0.425858</td>\n",
              "      <td>-0.017143</td>\n",
              "      <td>-0.120881</td>\n",
              "      <td>-0.113663</td>\n",
              "    </tr>\n",
              "    <tr>\n",
              "      <th>volatile acidity</th>\n",
              "      <td>-0.022697</td>\n",
              "      <td>1.000000</td>\n",
              "      <td>-0.149472</td>\n",
              "      <td>0.064286</td>\n",
              "      <td>0.070512</td>\n",
              "      <td>-0.097012</td>\n",
              "      <td>0.089261</td>\n",
              "      <td>0.027114</td>\n",
              "      <td>-0.031915</td>\n",
              "      <td>-0.035728</td>\n",
              "      <td>0.067718</td>\n",
              "      <td>-0.194723</td>\n",
              "    </tr>\n",
              "    <tr>\n",
              "      <th>citric acid</th>\n",
              "      <td>0.289181</td>\n",
              "      <td>-0.149472</td>\n",
              "      <td>1.000000</td>\n",
              "      <td>0.094212</td>\n",
              "      <td>0.114364</td>\n",
              "      <td>0.094077</td>\n",
              "      <td>0.121131</td>\n",
              "      <td>0.149503</td>\n",
              "      <td>-0.163748</td>\n",
              "      <td>0.062331</td>\n",
              "      <td>-0.075729</td>\n",
              "      <td>-0.009209</td>\n",
              "    </tr>\n",
              "    <tr>\n",
              "      <th>residual sugar</th>\n",
              "      <td>0.089021</td>\n",
              "      <td>0.064286</td>\n",
              "      <td>0.094212</td>\n",
              "      <td>1.000000</td>\n",
              "      <td>0.088685</td>\n",
              "      <td>0.299098</td>\n",
              "      <td>0.401439</td>\n",
              "      <td>0.838966</td>\n",
              "      <td>-0.194133</td>\n",
              "      <td>-0.026664</td>\n",
              "      <td>-0.450631</td>\n",
              "      <td>-0.097577</td>\n",
              "    </tr>\n",
              "    <tr>\n",
              "      <th>chlorides</th>\n",
              "      <td>0.023086</td>\n",
              "      <td>0.070512</td>\n",
              "      <td>0.114364</td>\n",
              "      <td>0.088685</td>\n",
              "      <td>1.000000</td>\n",
              "      <td>0.101392</td>\n",
              "      <td>0.198910</td>\n",
              "      <td>0.257211</td>\n",
              "      <td>-0.090439</td>\n",
              "      <td>0.016763</td>\n",
              "      <td>-0.360189</td>\n",
              "      <td>-0.209934</td>\n",
              "    </tr>\n",
              "    <tr>\n",
              "      <th>free sulfur dioxide</th>\n",
              "      <td>-0.049396</td>\n",
              "      <td>-0.097012</td>\n",
              "      <td>0.094077</td>\n",
              "      <td>0.299098</td>\n",
              "      <td>0.101392</td>\n",
              "      <td>1.000000</td>\n",
              "      <td>0.615501</td>\n",
              "      <td>0.294210</td>\n",
              "      <td>-0.000618</td>\n",
              "      <td>0.059217</td>\n",
              "      <td>-0.250104</td>\n",
              "      <td>0.008158</td>\n",
              "    </tr>\n",
              "    <tr>\n",
              "      <th>total sulfur dioxide</th>\n",
              "      <td>0.091070</td>\n",
              "      <td>0.089261</td>\n",
              "      <td>0.121131</td>\n",
              "      <td>0.401439</td>\n",
              "      <td>0.198910</td>\n",
              "      <td>0.615501</td>\n",
              "      <td>1.000000</td>\n",
              "      <td>0.529881</td>\n",
              "      <td>0.002321</td>\n",
              "      <td>0.134562</td>\n",
              "      <td>-0.448892</td>\n",
              "      <td>-0.174737</td>\n",
              "    </tr>\n",
              "    <tr>\n",
              "      <th>density</th>\n",
              "      <td>0.265331</td>\n",
              "      <td>0.027114</td>\n",
              "      <td>0.149503</td>\n",
              "      <td>0.838966</td>\n",
              "      <td>0.257211</td>\n",
              "      <td>0.294210</td>\n",
              "      <td>0.529881</td>\n",
              "      <td>1.000000</td>\n",
              "      <td>-0.093591</td>\n",
              "      <td>0.074493</td>\n",
              "      <td>-0.780138</td>\n",
              "      <td>-0.307123</td>\n",
              "    </tr>\n",
              "    <tr>\n",
              "      <th>pH</th>\n",
              "      <td>-0.425858</td>\n",
              "      <td>-0.031915</td>\n",
              "      <td>-0.163748</td>\n",
              "      <td>-0.194133</td>\n",
              "      <td>-0.090439</td>\n",
              "      <td>-0.000618</td>\n",
              "      <td>0.002321</td>\n",
              "      <td>-0.093591</td>\n",
              "      <td>1.000000</td>\n",
              "      <td>0.155951</td>\n",
              "      <td>0.121432</td>\n",
              "      <td>0.099427</td>\n",
              "    </tr>\n",
              "    <tr>\n",
              "      <th>sulphates</th>\n",
              "      <td>-0.017143</td>\n",
              "      <td>-0.035728</td>\n",
              "      <td>0.062331</td>\n",
              "      <td>-0.026664</td>\n",
              "      <td>0.016763</td>\n",
              "      <td>0.059217</td>\n",
              "      <td>0.134562</td>\n",
              "      <td>0.074493</td>\n",
              "      <td>0.155951</td>\n",
              "      <td>1.000000</td>\n",
              "      <td>-0.017433</td>\n",
              "      <td>0.053678</td>\n",
              "    </tr>\n",
              "    <tr>\n",
              "      <th>alcohol</th>\n",
              "      <td>-0.120881</td>\n",
              "      <td>0.067718</td>\n",
              "      <td>-0.075729</td>\n",
              "      <td>-0.450631</td>\n",
              "      <td>-0.360189</td>\n",
              "      <td>-0.250104</td>\n",
              "      <td>-0.448892</td>\n",
              "      <td>-0.780138</td>\n",
              "      <td>0.121432</td>\n",
              "      <td>-0.017433</td>\n",
              "      <td>1.000000</td>\n",
              "      <td>0.435575</td>\n",
              "    </tr>\n",
              "    <tr>\n",
              "      <th>quality</th>\n",
              "      <td>-0.113663</td>\n",
              "      <td>-0.194723</td>\n",
              "      <td>-0.009209</td>\n",
              "      <td>-0.097577</td>\n",
              "      <td>-0.209934</td>\n",
              "      <td>0.008158</td>\n",
              "      <td>-0.174737</td>\n",
              "      <td>-0.307123</td>\n",
              "      <td>0.099427</td>\n",
              "      <td>0.053678</td>\n",
              "      <td>0.435575</td>\n",
              "      <td>1.000000</td>\n",
              "    </tr>\n",
              "  </tbody>\n",
              "</table>\n",
              "</div>\n",
              "      <button class=\"colab-df-convert\" onclick=\"convertToInteractive('df-d4546b15-d86a-4d2f-b51e-15cf5bef23dc')\"\n",
              "              title=\"Convert this dataframe to an interactive table.\"\n",
              "              style=\"display:none;\">\n",
              "        \n",
              "  <svg xmlns=\"http://www.w3.org/2000/svg\" height=\"24px\"viewBox=\"0 0 24 24\"\n",
              "       width=\"24px\">\n",
              "    <path d=\"M0 0h24v24H0V0z\" fill=\"none\"/>\n",
              "    <path d=\"M18.56 5.44l.94 2.06.94-2.06 2.06-.94-2.06-.94-.94-2.06-.94 2.06-2.06.94zm-11 1L8.5 8.5l.94-2.06 2.06-.94-2.06-.94L8.5 2.5l-.94 2.06-2.06.94zm10 10l.94 2.06.94-2.06 2.06-.94-2.06-.94-.94-2.06-.94 2.06-2.06.94z\"/><path d=\"M17.41 7.96l-1.37-1.37c-.4-.4-.92-.59-1.43-.59-.52 0-1.04.2-1.43.59L10.3 9.45l-7.72 7.72c-.78.78-.78 2.05 0 2.83L4 21.41c.39.39.9.59 1.41.59.51 0 1.02-.2 1.41-.59l7.78-7.78 2.81-2.81c.8-.78.8-2.07 0-2.86zM5.41 20L4 18.59l7.72-7.72 1.47 1.35L5.41 20z\"/>\n",
              "  </svg>\n",
              "      </button>\n",
              "      \n",
              "  <style>\n",
              "    .colab-df-container {\n",
              "      display:flex;\n",
              "      flex-wrap:wrap;\n",
              "      gap: 12px;\n",
              "    }\n",
              "\n",
              "    .colab-df-convert {\n",
              "      background-color: #E8F0FE;\n",
              "      border: none;\n",
              "      border-radius: 50%;\n",
              "      cursor: pointer;\n",
              "      display: none;\n",
              "      fill: #1967D2;\n",
              "      height: 32px;\n",
              "      padding: 0 0 0 0;\n",
              "      width: 32px;\n",
              "    }\n",
              "\n",
              "    .colab-df-convert:hover {\n",
              "      background-color: #E2EBFA;\n",
              "      box-shadow: 0px 1px 2px rgba(60, 64, 67, 0.3), 0px 1px 3px 1px rgba(60, 64, 67, 0.15);\n",
              "      fill: #174EA6;\n",
              "    }\n",
              "\n",
              "    [theme=dark] .colab-df-convert {\n",
              "      background-color: #3B4455;\n",
              "      fill: #D2E3FC;\n",
              "    }\n",
              "\n",
              "    [theme=dark] .colab-df-convert:hover {\n",
              "      background-color: #434B5C;\n",
              "      box-shadow: 0px 1px 3px 1px rgba(0, 0, 0, 0.15);\n",
              "      filter: drop-shadow(0px 1px 2px rgba(0, 0, 0, 0.3));\n",
              "      fill: #FFFFFF;\n",
              "    }\n",
              "  </style>\n",
              "\n",
              "      <script>\n",
              "        const buttonEl =\n",
              "          document.querySelector('#df-d4546b15-d86a-4d2f-b51e-15cf5bef23dc button.colab-df-convert');\n",
              "        buttonEl.style.display =\n",
              "          google.colab.kernel.accessAllowed ? 'block' : 'none';\n",
              "\n",
              "        async function convertToInteractive(key) {\n",
              "          const element = document.querySelector('#df-d4546b15-d86a-4d2f-b51e-15cf5bef23dc');\n",
              "          const dataTable =\n",
              "            await google.colab.kernel.invokeFunction('convertToInteractive',\n",
              "                                                     [key], {});\n",
              "          if (!dataTable) return;\n",
              "\n",
              "          const docLinkHtml = 'Like what you see? Visit the ' +\n",
              "            '<a target=\"_blank\" href=https://colab.research.google.com/notebooks/data_table.ipynb>data table notebook</a>'\n",
              "            + ' to learn more about interactive tables.';\n",
              "          element.innerHTML = '';\n",
              "          dataTable['output_type'] = 'display_data';\n",
              "          await google.colab.output.renderOutput(dataTable, element);\n",
              "          const docLink = document.createElement('div');\n",
              "          docLink.innerHTML = docLinkHtml;\n",
              "          element.appendChild(docLink);\n",
              "        }\n",
              "      </script>\n",
              "    </div>\n",
              "  </div>\n",
              "  "
            ]
          },
          "metadata": {},
          "execution_count": 43
        }
      ]
    },
    {
      "cell_type": "code",
      "source": [
        "df.plot()"
      ],
      "metadata": {
        "colab": {
          "base_uri": "https://localhost:8080/",
          "height": 284
        },
        "id": "bH5vMJIRToNg",
        "outputId": "85002288-72b8-4150-803a-ec9c4830d48f"
      },
      "execution_count": 14,
      "outputs": [
        {
          "output_type": "execute_result",
          "data": {
            "text/plain": [
              "<matplotlib.axes._subplots.AxesSubplot at 0x7fdccc1c6590>"
            ]
          },
          "metadata": {},
          "execution_count": 14
        },
        {
          "output_type": "display_data",
          "data": {
            "text/plain": [
              "<Figure size 432x288 with 1 Axes>"
            ],
            "image/png": "[encoded data removed]"
          },
          "metadata": {
            "needs_background": "light"
          }
        }
      ]
    },
    {
      "cell_type": "code",
      "source": [
        "df1.plot()"
      ],
      "metadata": {
        "colab": {
          "base_uri": "https://localhost:8080/",
          "height": 282
        },
        "id": "Jvi61D25Tv7E",
        "outputId": "193ae827-e255-496f-bbea-2bbd564d235f"
      },
      "execution_count": 17,
      "outputs": [
        {
          "output_type": "execute_result",
          "data": {
            "text/plain": [
              "<matplotlib.axes._subplots.AxesSubplot at 0x7fdccb752c10>"
            ]
          },
          "metadata": {},
          "execution_count": 17
        },
        {
          "output_type": "display_data",
          "data": {
            "text/plain": [
              "<Figure size 432x288 with 1 Axes>"
            ],
            "image/png": "[encoded data removed]"
          },
          "metadata": {
            "needs_background": "light"
          }
        }
      ]
    },
    {
      "cell_type": "code",
      "source": [
        "df.plot.bar()"
      ],
      "metadata": {
        "colab": {
          "base_uri": "https://localhost:8080/",
          "height": 299
        },
        "id": "2e_F60LSTysG",
        "outputId": "2a432121-14af-4476-aaf3-c336c27acd11"
      },
      "execution_count": 19,
      "outputs": [
        {
          "output_type": "execute_result",
          "data": {
            "text/plain": [
              "<matplotlib.axes._subplots.AxesSubplot at 0x7fdccb6a0bd0>"
            ]
          },
          "metadata": {},
          "execution_count": 19
        },
        {
          "output_type": "display_data",
          "data": {
            "text/plain": [
              "<Figure size 432x288 with 1 Axes>"
            ],
            "image/png": "[encoded data removed]"
          },
          "metadata": {
            "needs_background": "light"
          }
        }
      ]
    },
    {
      "cell_type": "code",
      "source": [
        "df1.plot.bar()"
      ],
      "metadata": {
        "colab": {
          "base_uri": "https://localhost:8080/",
          "height": 298
        },
        "id": "HtRekZmqT7jG",
        "outputId": "e52a5bdc-0071-42eb-e81c-247b15cc99ff"
      },
      "execution_count": 20,
      "outputs": [
        {
          "output_type": "execute_result",
          "data": {
            "text/plain": [
              "<matplotlib.axes._subplots.AxesSubplot at 0x7fdcbe57f7d0>"
            ]
          },
          "metadata": {},
          "execution_count": 20
        },
        {
          "output_type": "display_data",
          "data": {
            "text/plain": [
              "<Figure size 432x288 with 1 Axes>"
            ],
            "image/png": "[encoded data removed]"
          },
          "metadata": {
            "needs_background": "light"
          }
        }
      ]
    },
    {
      "cell_type": "code",
      "source": [
        "df.hist()"
      ],
      "metadata": {
        "colab": {
          "base_uri": "https://localhost:8080/",
          "height": 507
        },
        "id": "xkyYspP-UUiT",
        "outputId": "cffbec2d-1fb0-43dd-952e-9b394450bc7e"
      },
      "execution_count": 21,
      "outputs": [
        {
          "output_type": "execute_result",
          "data": {
            "text/plain": [
              "array([[<matplotlib.axes._subplots.AxesSubplot object at 0x7fdc9438dd50>,\n",
              "        <matplotlib.axes._subplots.AxesSubplot object at 0x7fdc9426bf90>,\n",
              "        <matplotlib.axes._subplots.AxesSubplot object at 0x7fdc9418e410>],\n",
              "       [<matplotlib.axes._subplots.AxesSubplot object at 0x7fdc9402e0d0>,\n",
              "        <matplotlib.axes._subplots.AxesSubplot object at 0x7fdc93ef4250>,\n",
              "        <matplotlib.axes._subplots.AxesSubplot object at 0x7fdc93e341d0>],\n",
              "       [<matplotlib.axes._subplots.AxesSubplot object at 0x7fdc93d22890>,\n",
              "        <matplotlib.axes._subplots.AxesSubplot object at 0x7fdcca2a9710>,\n",
              "        <matplotlib.axes._subplots.AxesSubplot object at 0x7fdc93df6710>],\n",
              "       [<matplotlib.axes._subplots.AxesSubplot object at 0x7fdcbb90ed50>,\n",
              "        <matplotlib.axes._subplots.AxesSubplot object at 0x7fdcba380d90>,\n",
              "        <matplotlib.axes._subplots.AxesSubplot object at 0x7fdcbb2be950>]],\n",
              "      dtype=object)"
            ]
          },
          "metadata": {},
          "execution_count": 21
        },
        {
          "output_type": "display_data",
          "data": {
            "text/plain": [
              "<Figure size 432x288 with 12 Axes>"
            ],
            "image/png": "[encoded data removed]"
          },
          "metadata": {
            "needs_background": "light"
          }
        }
      ]
    },
    {
      "cell_type": "code",
      "source": [
        "df1.hist()"
      ],
      "metadata": {
        "colab": {
          "base_uri": "https://localhost:8080/",
          "height": 507
        },
        "id": "H8FHqcE0UXQc",
        "outputId": "fad393c1-f94f-4d0e-a486-19abf5c59bf5"
      },
      "execution_count": 22,
      "outputs": [
        {
          "output_type": "execute_result",
          "data": {
            "text/plain": [
              "array([[<matplotlib.axes._subplots.AxesSubplot object at 0x7fdc93516850>,\n",
              "        <matplotlib.axes._subplots.AxesSubplot object at 0x7fdc92c83d50>,\n",
              "        <matplotlib.axes._subplots.AxesSubplot object at 0x7fdcbdde5050>],\n",
              "       [<matplotlib.axes._subplots.AxesSubplot object at 0x7fdc8cb25bd0>,\n",
              "        <matplotlib.axes._subplots.AxesSubplot object at 0x7fdc8cc9fed0>,\n",
              "        <matplotlib.axes._subplots.AxesSubplot object at 0x7fdc8cdf99d0>],\n",
              "       [<matplotlib.axes._subplots.AxesSubplot object at 0x7fdc8cefe450>,\n",
              "        <matplotlib.axes._subplots.AxesSubplot object at 0x7fdc8d160fd0>,\n",
              "        <matplotlib.axes._subplots.AxesSubplot object at 0x7fdc8d13df10>],\n",
              "       [<matplotlib.axes._subplots.AxesSubplot object at 0x7fdc8d26c990>,\n",
              "        <matplotlib.axes._subplots.AxesSubplot object at 0x7fdc8910f090>,\n",
              "        <matplotlib.axes._subplots.AxesSubplot object at 0x7fdc8cb47b50>]],\n",
              "      dtype=object)"
            ]
          },
          "metadata": {},
          "execution_count": 22
        },
        {
          "output_type": "display_data",
          "data": {
            "text/plain": [
              "<Figure size 432x288 with 12 Axes>"
            ],
            "image/png": "[encoded data removed]"
          },
          "metadata": {
            "needs_background": "light"
          }
        }
      ]
    },
    {
      "cell_type": "code",
      "source": [
        "df.plot(kind=\"scatter\",x=\"fixed\",y=\"Unnamed: 2\")"
      ],
      "metadata": {
        "colab": {
          "base_uri": "https://localhost:8080/",
          "height": 296
        },
        "id": "KlwfOYfSVzxO",
        "outputId": "54698f98-26ae-4109-f739-e33510054b05"
      },
      "execution_count": 29,
      "outputs": [
        {
          "output_type": "execute_result",
          "data": {
            "text/plain": [
              "<matplotlib.axes._subplots.AxesSubplot at 0x7fdc8f007f10>"
            ]
          },
          "metadata": {},
          "execution_count": 29
        },
        {
          "output_type": "display_data",
          "data": {
            "text/plain": [
              "<Figure size 432x288 with 1 Axes>"
            ],
            "image/png": "[encoded data removed]"
          },
          "metadata": {
            "needs_background": "light"
          }
        }
      ]
    },
    {
      "cell_type": "code",
      "source": [
        "df1.plot(kind=\"scatter\",x=\"fixed acidity\",y=\"volatile acidity\")"
      ],
      "metadata": {
        "colab": {
          "base_uri": "https://localhost:8080/",
          "height": 296
        },
        "id": "8SonJwaxWy0e",
        "outputId": "039396e4-29e6-4f83-8d1e-fccd82be18b9"
      },
      "execution_count": 26,
      "outputs": [
        {
          "output_type": "execute_result",
          "data": {
            "text/plain": [
              "<matplotlib.axes._subplots.AxesSubplot at 0x7fdc8cd98a50>"
            ]
          },
          "metadata": {},
          "execution_count": 26
        },
        {
          "output_type": "display_data",
          "data": {
            "text/plain": [
              "<Figure size 432x288 with 1 Axes>"
            ],
            "image/png": "[encoded data removed]"
          },
          "metadata": {
            "needs_background": "light"
          }
        }
      ]
    },
    {
      "cell_type": "code",
      "source": [
        "df.plot.barh(stacked=True)"
      ],
      "metadata": {
        "colab": {
          "base_uri": "https://localhost:8080/",
          "height": 286
        },
        "id": "H1dgu8abWzse",
        "outputId": "712fadfd-1efd-4712-904f-321371e7bb37"
      },
      "execution_count": 30,
      "outputs": [
        {
          "output_type": "execute_result",
          "data": {
            "text/plain": [
              "<matplotlib.axes._subplots.AxesSubplot at 0x7fdc8b764890>"
            ]
          },
          "metadata": {},
          "execution_count": 30
        },
        {
          "output_type": "display_data",
          "data": {
            "text/plain": [
              "<Figure size 432x288 with 1 Axes>"
            ],
            "image/png": "[encoded data removed]"
          },
          "metadata": {
            "needs_background": "light"
          }
        }
      ]
    },
    {
      "cell_type": "code",
      "source": [
        "df1.plot.barh(stacked=True)"
      ],
      "metadata": {
        "colab": {
          "base_uri": "https://localhost:8080/",
          "height": 286
        },
        "id": "8O5ijh18XrB8",
        "outputId": "598149f5-7c8e-40a0-97fd-e2c25d8c750d"
      },
      "execution_count": 31,
      "outputs": [
        {
          "output_type": "execute_result",
          "data": {
            "text/plain": [
              "<matplotlib.axes._subplots.AxesSubplot at 0x7fdc7d9f4d50>"
            ]
          },
          "metadata": {},
          "execution_count": 31
        },
        {
          "output_type": "display_data",
          "data": {
            "text/plain": [
              "<Figure size 432x288 with 1 Axes>"
            ],
            "image/png": "[encoded data removed]"
          },
          "metadata": {
            "needs_background": "light"
          }
        }
      ]
    },
    {
      "cell_type": "code",
      "source": [
        "df.plot.area()"
      ],
      "metadata": {
        "colab": {
          "base_uri": "https://localhost:8080/",
          "height": 282
        },
        "id": "4xi4jgnQXsus",
        "outputId": "42aa6c7e-390c-4540-f6ea-dd67baf65b50"
      },
      "execution_count": 32,
      "outputs": [
        {
          "output_type": "execute_result",
          "data": {
            "text/plain": [
              "<matplotlib.axes._subplots.AxesSubplot at 0x7fdc536eee50>"
            ]
          },
          "metadata": {},
          "execution_count": 32
        },
        {
          "output_type": "display_data",
          "data": {
            "text/plain": [
              "<Figure size 432x288 with 1 Axes>"
            ],
            "image/png": "[encoded data removed]"
          },
          "metadata": {
            "needs_background": "light"
          }
        }
      ]
    },
    {
      "cell_type": "code",
      "source": [
        "df1.plot.area()"
      ],
      "metadata": {
        "colab": {
          "base_uri": "https://localhost:8080/",
          "height": 282
        },
        "id": "2ewGTTnTX40W",
        "outputId": "c713f957-4a1f-4f02-8100-216f11b327ae"
      },
      "execution_count": 33,
      "outputs": [
        {
          "output_type": "execute_result",
          "data": {
            "text/plain": [
              "<matplotlib.axes._subplots.AxesSubplot at 0x7fdc53582190>"
            ]
          },
          "metadata": {},
          "execution_count": 33
        },
        {
          "output_type": "display_data",
          "data": {
            "text/plain": [
              "<Figure size 432x288 with 1 Axes>"
            ],
            "image/png": "[encoded data removed]"
          },
          "metadata": {
            "needs_background": "light"
          }
        }
      ]
    },
    {
      "cell_type": "code",
      "source": [
        "df.plot.box()"
      ],
      "metadata": {
        "colab": {
          "base_uri": "https://localhost:8080/",
          "height": 284
        },
        "id": "JXUzWdkNX5Tq",
        "outputId": "9e217eb1-6fd3-49e1-ca88-0d589d0631b0"
      },
      "execution_count": 34,
      "outputs": [
        {
          "output_type": "execute_result",
          "data": {
            "text/plain": [
              "<matplotlib.axes._subplots.AxesSubplot at 0x7fdc4e5797d0>"
            ]
          },
          "metadata": {},
          "execution_count": 34
        },
        {
          "output_type": "display_data",
          "data": {
            "text/plain": [
              "<Figure size 432x288 with 1 Axes>"
            ],
            "image/png": "[encoded data removed]"
          },
          "metadata": {
            "needs_background": "light"
          }
        }
      ]
    },
    {
      "cell_type": "code",
      "source": [
        "df1.plot.box()"
      ],
      "metadata": {
        "colab": {
          "base_uri": "https://localhost:8080/",
          "height": 282
        },
        "id": "fSaU_yIeYC5E",
        "outputId": "127f3228-9916-48bf-86db-a297879c12ea"
      },
      "execution_count": 35,
      "outputs": [
        {
          "output_type": "execute_result",
          "data": {
            "text/plain": [
              "<matplotlib.axes._subplots.AxesSubplot at 0x7fdc4b301610>"
            ]
          },
          "metadata": {},
          "execution_count": 35
        },
        {
          "output_type": "display_data",
          "data": {
            "text/plain": [
              "<Figure size 432x288 with 1 Axes>"
            ],
            "image/png": "[encoded data removed]"
          },
          "metadata": {
            "needs_background": "light"
          }
        }
      ]
    },
    {
      "cell_type": "code",
      "source": [],
      "metadata": {
        "id": "VvKkqoL6YDaB"
      },
      "execution_count": null,
      "outputs": []
    }
  ]
}